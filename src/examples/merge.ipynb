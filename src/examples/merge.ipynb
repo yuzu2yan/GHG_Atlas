{
 "cells": [
  {
   "cell_type": "code",
   "execution_count": 1,
   "metadata": {},
   "outputs": [],
   "source": [
    "# Import the following libraries\n",
    "import requests\n",
    "import folium\n",
    "import folium.plugins\n",
    "from folium import Map, TileLayer\n",
    "from pystac_client import Client\n",
    "import branca\n",
    "import pandas as pd\n",
    "import matplotlib.pyplot as plt"
   ]
  },
  {
   "cell_type": "code",
   "execution_count": 2,
   "metadata": {},
   "outputs": [],
   "source": [
    "# Provide the STAC and RASTER API endpoints\n",
    "# The endpoint is referring to a location within the API that executes a request on a data collection nesting on the server.\n",
    "\n",
    "# The STAC API is a catalog of all the existing data collections that are stored in the GHG Center.\n",
    "STAC_API_URL = \"https://earth.gov/ghgcenter/api/stac\"\n",
    "\n",
    "# The RASTER API is used to fetch collections for visualization\n",
    "RASTER_API_URL = \"https://earth.gov/ghgcenter/api/raster\"\n",
    "\n",
    "# The collection name is used to fetch the dataset from the STAC API. First, we define the collection name as a variable\n",
    "# Name of the collection for ODIAC dataset \n",
    "collection_ffco2 = \"odiac-ffco2-monthgrid-v2023\"\n",
    "# Name of the collection for gosat budget methane. \n",
    "collection_ch4budget = \"gosat-based-ch4budget-yeargrid-v1\""
   ]
  },
  {
   "cell_type": "code",
   "execution_count": 3,
   "metadata": {},
   "outputs": [],
   "source": [
    "collection_ffco2 = requests.get(f\"{STAC_API_URL}/collections/{collection_ffco2}\").json()\n",
    "collection_ch4budget = requests.get(f\"{STAC_API_URL}/collections/{collection_ch4budget}\").json()"
   ]
  },
  {
   "cell_type": "code",
   "execution_count": 4,
   "metadata": {},
   "outputs": [],
   "source": [
    "def get_item_count(collection_id):\n",
    "    count = 0\n",
    "    items_url = f\"{STAC_API_URL}/collections/{collection_id}/items\"\n",
    "\n",
    "    while True:\n",
    "        response = requests.get(items_url)\n",
    "\n",
    "        if not response.ok:\n",
    "            print(\"error getting items\")\n",
    "            exit()\n",
    "\n",
    "        stac = response.json()\n",
    "        count += int(stac[\"context\"].get(\"returned\", 0))\n",
    "        next = [link for link in stac[\"links\"] if link[\"rel\"] == \"next\"]\n",
    "\n",
    "        if not next:\n",
    "            break\n",
    "        items_url = next[0][\"href\"]\n",
    "\n",
    "    return count"
   ]
  },
  {
   "cell_type": "code",
   "execution_count": 5,
   "metadata": {},
   "outputs": [],
   "source": [
    "num_items_ffco2 = get_item_count(collection_ffco2[\"id\"])\n",
    "num_items_ch4budget = get_item_count(collection_ch4budget[\"id\"])\n",
    "\n",
    "items_ffco2 = requests.get(f\"{STAC_API_URL}/collections/{collection_ffco2['id']}/items?limit={num_items_ffco2}\").json()[\"features\"]\n",
    "items_ch4budget = requests.get(f\"{STAC_API_URL}/collections/{collection_ch4budget['id']}/items?limit={num_items_ch4budget}\").json()[\"features\"]"
   ]
  },
  {
   "cell_type": "code",
   "execution_count": 6,
   "metadata": {},
   "outputs": [],
   "source": [
    "items_ffco2 = {item[\"properties\"][\"start_datetime\"][:7]: item for item in items_ffco2}\n",
    "items_ch4budget = {item[\"properties\"][\"start_datetime\"][:10]: item for item in items_ch4budget}\n",
    "\n",
    "asset_ffco2 = \"co2-emissions\"\n",
    "asset_ch4budget = \"prior-total\""
   ]
  },
  {
   "cell_type": "code",
   "execution_count": 7,
   "metadata": {},
   "outputs": [],
   "source": [
    "rescale_ffco2 = {\"max\":items_ffco2[list(items_ffco2.keys())[0]][\"assets\"][asset_ffco2][\"raster:bands\"][0][\"histogram\"][\"max\"], \"min\":items_ffco2[list(items_ffco2.keys())[0]][\"assets\"][asset_ffco2][\"raster:bands\"][0][\"histogram\"][\"min\"]}\n",
    "rescale_ch4budget = {\"max\":items_ch4budget[list(items_ch4budget.keys())[0]][\"assets\"][asset_ch4budget][\"raster:bands\"][0][\"histogram\"][\"max\"], \"min\":items_ch4budget[list(items_ch4budget.keys())[0]][\"assets\"][asset_ch4budget][\"raster:bands\"][0][\"histogram\"][\"min\"]}"
   ]
  },
  {
   "cell_type": "code",
   "execution_count": 33,
   "metadata": {},
   "outputs": [],
   "source": [
    "# Choose a color map for displaying the first observation (event)\n",
    "# Please refer to matplotlib library if you'd prefer choosing a different color ramp.\n",
    "# For more information on Colormaps in Matplotlib, please visit https://matplotlib.org/stable/users/explain/colors/colormaps.html\n",
    "color_map = \"terrain\" \n",
    "\n",
    "# Make a GET request to retrieve information for the 2020 tile\n",
    "# 2020\n",
    "january_2020_tile = requests.get(\n",
    "\n",
    "    # Pass the collection name, the item number in the list, and its ID\n",
    "    f\"{RASTER_API_URL}/collections/{items_ffco2['2020-01']['collection']}/items/{items_ffco2['2020-01']['id']}/tilejson.json?\"\n",
    "\n",
    "    # Pass the asset name\n",
    "    f\"&assets={asset_ffco2}\"\n",
    "\n",
    "    # Pass the color formula and colormap for custom visualization\n",
    "    f\"&color_formula=gamma+r+1.05&colormap_name={color_map}\"\n",
    "\n",
    "    # Pass the minimum and maximum values for rescaling\n",
    "    f\"&rescale={rescale_ffco2['min']},{rescale_ffco2['max']}\", \n",
    "\n",
    "# Return the response in JSON format\n",
    ").json()\n",
    "\n",
    "\n",
    "# Make a GET request to retrieve information for the 2000 tile\n",
    "# 2000\n",
    "january_2000_tile = requests.get(\n",
    "\n",
    "    # Pass the collection name, the item number in the list, and its ID\n",
    "    f\"{RASTER_API_URL}/collections/{items_ffco2['2000-01']['collection']}/items/{items_ffco2['2000-01']['id']}/tilejson.json?\"\n",
    "\n",
    "    # Pass the asset name\n",
    "    f\"&assets={asset_ffco2}\"\n",
    "\n",
    "    # Pass the color formula and colormap for custom visualization\n",
    "    f\"&color_formula=gamma+r+1.05&colormap_name={color_map}\"\n",
    "\n",
    "    # Pass the minimum and maximum values for rescaling\n",
    "    f\"&rescale={rescale_ffco2['min']},{rescale_ffco2['max']}\", \n",
    "\n",
    "# Return the response in JSON format\n",
    ").json()\n",
    "\n",
    "january_2019_tile = requests.get(\n",
    "    f\"{RASTER_API_URL}/collections/{items_ch4budget['2019-01-01']['collection']}/items/{items_ch4budget['2019-01-01']['id']}/tilejson.json?\"\n",
    "    f\"&assets={asset_ch4budget}\"\n",
    "    f\"&color_formula=gamma+r+1.05&colormap_name={color_map}\"\n",
    "    f\"&rescale={rescale_ch4budget['min']},{rescale_ch4budget['max']}\", \n",
    ").json()"
   ]
  },
  {
   "cell_type": "code",
   "execution_count": 34,
   "metadata": {},
   "outputs": [
    {
     "data": {
      "text/html": [
       "<div style=\"width:100%;\"><div style=\"position:relative;width:100%;height:0;padding-bottom:60%;\"><span style=\"color:#565656\">Make this Notebook Trusted to load map: File -> Trust Notebook</span><iframe srcdoc=\"&lt;!DOCTYPE html&gt;\n",
       "&lt;html&gt;\n",
       "&lt;head&gt;\n",
       "    \n",
       "    &lt;meta http-equiv=&quot;content-type&quot; content=&quot;text/html; charset=UTF-8&quot; /&gt;\n",
       "    \n",
       "        &lt;script&gt;\n",
       "            L_NO_TOUCH = false;\n",
       "            L_DISABLE_3D = false;\n",
       "        &lt;/script&gt;\n",
       "    \n",
       "    &lt;style&gt;html, body {width: 100%;height: 100%;margin: 0;padding: 0;}&lt;/style&gt;\n",
       "    &lt;style&gt;#map {position:absolute;top:0;bottom:0;right:0;left:0;}&lt;/style&gt;\n",
       "    &lt;script src=&quot;https://cdn.jsdelivr.net/npm/leaflet@1.9.3/dist/leaflet.js&quot;&gt;&lt;/script&gt;\n",
       "    &lt;script src=&quot;https://code.jquery.com/jquery-3.7.1.min.js&quot;&gt;&lt;/script&gt;\n",
       "    &lt;script src=&quot;https://cdn.jsdelivr.net/npm/bootstrap@5.2.2/dist/js/bootstrap.bundle.min.js&quot;&gt;&lt;/script&gt;\n",
       "    &lt;script src=&quot;https://cdnjs.cloudflare.com/ajax/libs/Leaflet.awesome-markers/2.0.2/leaflet.awesome-markers.js&quot;&gt;&lt;/script&gt;\n",
       "    &lt;link rel=&quot;stylesheet&quot; href=&quot;https://cdn.jsdelivr.net/npm/leaflet@1.9.3/dist/leaflet.css&quot;/&gt;\n",
       "    &lt;link rel=&quot;stylesheet&quot; href=&quot;https://cdn.jsdelivr.net/npm/bootstrap@5.2.2/dist/css/bootstrap.min.css&quot;/&gt;\n",
       "    &lt;link rel=&quot;stylesheet&quot; href=&quot;https://netdna.bootstrapcdn.com/bootstrap/3.0.0/css/bootstrap-glyphicons.css&quot;/&gt;\n",
       "    &lt;link rel=&quot;stylesheet&quot; href=&quot;https://cdn.jsdelivr.net/npm/@fortawesome/fontawesome-free@6.2.0/css/all.min.css&quot;/&gt;\n",
       "    &lt;link rel=&quot;stylesheet&quot; href=&quot;https://cdnjs.cloudflare.com/ajax/libs/Leaflet.awesome-markers/2.0.2/leaflet.awesome-markers.css&quot;/&gt;\n",
       "    &lt;link rel=&quot;stylesheet&quot; href=&quot;https://cdn.jsdelivr.net/gh/python-visualization/folium/folium/templates/leaflet.awesome.rotate.min.css&quot;/&gt;\n",
       "    \n",
       "            &lt;meta name=&quot;viewport&quot; content=&quot;width=device-width,\n",
       "                initial-scale=1.0, maximum-scale=1.0, user-scalable=no&quot; /&gt;\n",
       "            &lt;style&gt;\n",
       "                #map_32d3f6725f0845ccc65d10748d8f4128 {\n",
       "                    position: relative;\n",
       "                    width: 100.0%;\n",
       "                    height: 100.0%;\n",
       "                    left: 0.0%;\n",
       "                    top: 0.0%;\n",
       "                }\n",
       "                .leaflet-container { font-size: 1rem; }\n",
       "            &lt;/style&gt;\n",
       "        \n",
       "&lt;/head&gt;\n",
       "&lt;body&gt;\n",
       "    \n",
       "    \n",
       "            &lt;div class=&quot;folium-map&quot; id=&quot;map_32d3f6725f0845ccc65d10748d8f4128&quot; &gt;&lt;/div&gt;\n",
       "        \n",
       "&lt;/body&gt;\n",
       "&lt;script&gt;\n",
       "    \n",
       "    \n",
       "            var map_32d3f6725f0845ccc65d10748d8f4128 = L.map(\n",
       "                &quot;map_32d3f6725f0845ccc65d10748d8f4128&quot;,\n",
       "                {\n",
       "                    center: [34.0, -118.0],\n",
       "                    crs: L.CRS.EPSG3857,\n",
       "                    zoom: 6,\n",
       "                    zoomControl: true,\n",
       "                    preferCanvas: false,\n",
       "                }\n",
       "            );\n",
       "\n",
       "            \n",
       "\n",
       "        \n",
       "    \n",
       "            var tile_layer_58a7e0767779bf9b2f0f887c54c9e03c = L.tileLayer(\n",
       "                &quot;https://tile.openstreetmap.org/{z}/{x}/{y}.png&quot;,\n",
       "                {&quot;attribution&quot;: &quot;\\u0026copy; \\u003ca href=\\&quot;https://www.openstreetmap.org/copyright\\&quot;\\u003eOpenStreetMap\\u003c/a\\u003e contributors&quot;, &quot;detectRetina&quot;: false, &quot;maxNativeZoom&quot;: 19, &quot;maxZoom&quot;: 19, &quot;minZoom&quot;: 0, &quot;noWrap&quot;: false, &quot;opacity&quot;: 1, &quot;subdomains&quot;: &quot;abc&quot;, &quot;tms&quot;: false}\n",
       "            );\n",
       "        \n",
       "    \n",
       "            tile_layer_58a7e0767779bf9b2f0f887c54c9e03c.addTo(map_32d3f6725f0845ccc65d10748d8f4128);\n",
       "        \n",
       "    \n",
       "            var tile_layer_7548f46057ccdb61ed00f2606fbd72b8 = L.tileLayer(\n",
       "                &quot;https://earth.gov/ghgcenter/api/raster/collections/odiac-ffco2-monthgrid-v2023/items/odiac-ffco2-monthgrid-v2023-odiac2023_1km_excl_intl_202001/tiles/WebMercatorQuad/{z}/{x}/{y}@1x?assets=co2-emissions\\u0026color_formula=gamma+r+1.05\\u0026colormap_name=terrain\\u0026rescale=-675.1028442382812%2C31415.447265625&quot;,\n",
       "                {&quot;attribution&quot;: &quot;GHG&quot;, &quot;detectRetina&quot;: false, &quot;maxZoom&quot;: 18, &quot;minZoom&quot;: 0, &quot;noWrap&quot;: false, &quot;opacity&quot;: 0.8, &quot;subdomains&quot;: &quot;abc&quot;, &quot;tms&quot;: false}\n",
       "            );\n",
       "        \n",
       "    \n",
       "            tile_layer_7548f46057ccdb61ed00f2606fbd72b8.addTo(map_32d3f6725f0845ccc65d10748d8f4128);\n",
       "        \n",
       "    \n",
       "            var tile_layer_c8680826c51f9109437df5e0ca169ecb = L.tileLayer(\n",
       "                &quot;https://earth.gov/ghgcenter/api/raster/collections/gosat-based-ch4budget-yeargrid-v1/items/gosat-based-ch4budget-yeargrid-v1-2019/tiles/WebMercatorQuad/{z}/{x}/{y}@1x?assets=prior-total\\u0026color_formula=gamma+r+1.05\\u0026colormap_name=terrain\\u0026rescale=0.0%2C2.121816635131836&quot;,\n",
       "                {&quot;attribution&quot;: &quot;GHG&quot;, &quot;detectRetina&quot;: false, &quot;maxZoom&quot;: 18, &quot;minZoom&quot;: 0, &quot;noWrap&quot;: false, &quot;opacity&quot;: 0.7, &quot;subdomains&quot;: &quot;abc&quot;, &quot;tms&quot;: false}\n",
       "            );\n",
       "        \n",
       "    \n",
       "            tile_layer_c8680826c51f9109437df5e0ca169ecb.addTo(map_32d3f6725f0845ccc65d10748d8f4128);\n",
       "        \n",
       "&lt;/script&gt;\n",
       "&lt;/html&gt;\" style=\"position:absolute;width:100%;height:100%;left:0;top:0;border:none !important;\" allowfullscreen webkitallowfullscreen mozallowfullscreen></iframe></div></div>"
      ],
      "text/plain": [
       "<folium.folium.Map at 0x146861dc0>"
      ]
     },
     "execution_count": 34,
     "metadata": {},
     "output_type": "execute_result"
    }
   ],
   "source": [
    "# To change the location, you can simply insert the latitude and longitude of the area of your interest in the \"location=(LAT, LONG)\" statement\n",
    "\n",
    "# Set the initial zoom level and center of map for both tiles\n",
    "# 'folium.plugins' allows mapping side-by-side\n",
    "map_ = folium.Map(location=(34, -118), zoom_start=6)\n",
    "\n",
    "# Define the first map layer (January 2020)\n",
    "map_layer_2020 = TileLayer(\n",
    "    tiles=january_2020_tile[\"tiles\"][0], # Path to retrieve the tile\n",
    "    attr=\"GHG\", # Set the attribution\n",
    "    opacity=0.8, # Adjust the transparency of the layer\n",
    ")\n",
    "\n",
    "# Add the first layer to the Dual Map\n",
    "map_layer_2020.add_to(map_)\n",
    "\n",
    "\n",
    "# January 2019\n",
    "map_layer_2019 = TileLayer(\n",
    "    tiles=january_2019_tile[\"tiles\"][0],\n",
    "    attr=\"GHG\",\n",
    "    opacity=0.7,\n",
    ")\n",
    "map_layer_2019.add_to(map_)\n",
    "\n",
    "# # January 2012\n",
    "# map_layer_2012 = TileLayer(\n",
    "#     tiles=january_2012_tile[\"tiles\"][0],\n",
    "#     attr=\"GHG\",\n",
    "#     opacity=0.7,\n",
    "# )\n",
    "# map_layer_2012.add_to(map_.m2)\n",
    "\n",
    "# Visualize the Dual Map\n",
    "map_"
   ]
  },
  {
   "cell_type": "code",
   "execution_count": 35,
   "metadata": {},
   "outputs": [
    {
     "name": "stdout",
     "output_type": "stream",
     "text": [
      "Defaulting to user installation because normal site-packages is not writeable\n",
      "Requirement already satisfied: gradio in /Users/yuzu/Library/Python/3.9/lib/python/site-packages (3.42.0)\n",
      "Requirement already satisfied: aiofiles<24.0,>=22.0 in /Users/yuzu/Library/Python/3.9/lib/python/site-packages (from gradio) (23.2.1)\n",
      "Requirement already satisfied: altair<6.0,>=4.2.0 in /Users/yuzu/Library/Python/3.9/lib/python/site-packages (from gradio) (5.2.0)\n",
      "Requirement already satisfied: fastapi in /Users/yuzu/Library/Python/3.9/lib/python/site-packages (from gradio) (0.110.0)\n",
      "Requirement already satisfied: ffmpy in /Users/yuzu/Library/Python/3.9/lib/python/site-packages (from gradio) (0.3.2)\n",
      "Requirement already satisfied: gradio-client==0.5.0 in /Users/yuzu/Library/Python/3.9/lib/python/site-packages (from gradio) (0.5.0)\n",
      "Requirement already satisfied: httpx in /Users/yuzu/Library/Python/3.9/lib/python/site-packages (from gradio) (0.27.0)\n",
      "Requirement already satisfied: huggingface-hub>=0.14.0 in /Users/yuzu/Library/Python/3.9/lib/python/site-packages (from gradio) (0.22.1)\n",
      "Requirement already satisfied: importlib-resources<7.0,>=1.3 in /Users/yuzu/Library/Python/3.9/lib/python/site-packages (from gradio) (5.12.0)\n",
      "Requirement already satisfied: jinja2<4.0 in /Users/yuzu/Library/Python/3.9/lib/python/site-packages (from gradio) (3.1.3)\n",
      "Requirement already satisfied: markupsafe~=2.0 in /Users/yuzu/Library/Python/3.9/lib/python/site-packages (from gradio) (2.1.5)\n",
      "Requirement already satisfied: matplotlib~=3.0 in /Users/yuzu/Library/Python/3.9/lib/python/site-packages (from gradio) (3.8.3)\n",
      "Requirement already satisfied: numpy~=1.0 in /Users/yuzu/Library/Python/3.9/lib/python/site-packages (from gradio) (1.26.4)\n",
      "Requirement already satisfied: orjson~=3.0 in /Users/yuzu/Library/Python/3.9/lib/python/site-packages (from gradio) (3.10.0)\n",
      "Requirement already satisfied: packaging in /Users/yuzu/Library/Python/3.9/lib/python/site-packages (from gradio) (24.0)\n",
      "Requirement already satisfied: pandas<3.0,>=1.0 in /Users/yuzu/Library/Python/3.9/lib/python/site-packages (from gradio) (2.0.2)\n",
      "Requirement already satisfied: pillow<11.0,>=8.0 in /Users/yuzu/Library/Python/3.9/lib/python/site-packages (from gradio) (10.2.0)\n",
      "Requirement already satisfied: pydantic!=1.8,!=1.8.1,!=2.0.0,!=2.0.1,<3.0.0,>=1.7.4 in /Users/yuzu/Library/Python/3.9/lib/python/site-packages (from gradio) (1.10.14)\n",
      "Requirement already satisfied: pydub in /Users/yuzu/Library/Python/3.9/lib/python/site-packages (from gradio) (0.25.1)\n",
      "Requirement already satisfied: python-multipart in /Users/yuzu/Library/Python/3.9/lib/python/site-packages (from gradio) (0.0.9)\n",
      "Requirement already satisfied: pyyaml<7.0,>=5.0 in /Users/yuzu/Library/Python/3.9/lib/python/site-packages (from gradio) (6.0.1)\n",
      "Requirement already satisfied: requests~=2.0 in /Users/yuzu/Library/Python/3.9/lib/python/site-packages (from gradio) (2.31.0)\n",
      "Requirement already satisfied: semantic-version~=2.0 in /Users/yuzu/Library/Python/3.9/lib/python/site-packages (from gradio) (2.10.0)\n",
      "Requirement already satisfied: typing-extensions~=4.0 in /Users/yuzu/Library/Python/3.9/lib/python/site-packages (from gradio) (4.10.0)\n",
      "Requirement already satisfied: uvicorn>=0.14.0 in /Users/yuzu/Library/Python/3.9/lib/python/site-packages (from gradio) (0.29.0)\n",
      "Requirement already satisfied: websockets<12.0,>=10.0 in /Users/yuzu/Library/Python/3.9/lib/python/site-packages (from gradio) (11.0.3)\n",
      "Requirement already satisfied: fsspec in /Users/yuzu/Library/Python/3.9/lib/python/site-packages (from gradio-client==0.5.0->gradio) (2024.3.1)\n",
      "Requirement already satisfied: jsonschema>=3.0 in /Users/yuzu/Library/Python/3.9/lib/python/site-packages (from altair<6.0,>=4.2.0->gradio) (4.21.1)\n",
      "Requirement already satisfied: toolz in /Users/yuzu/Library/Python/3.9/lib/python/site-packages (from altair<6.0,>=4.2.0->gradio) (0.12.1)\n",
      "Requirement already satisfied: filelock in /Users/yuzu/Library/Python/3.9/lib/python/site-packages (from huggingface-hub>=0.14.0->gradio) (3.13.3)\n",
      "Requirement already satisfied: tqdm>=4.42.1 in /Users/yuzu/Library/Python/3.9/lib/python/site-packages (from huggingface-hub>=0.14.0->gradio) (4.66.2)\n",
      "Requirement already satisfied: zipp>=3.1.0 in /Users/yuzu/Library/Python/3.9/lib/python/site-packages (from importlib-resources<7.0,>=1.3->gradio) (3.18.1)\n",
      "Requirement already satisfied: contourpy>=1.0.1 in /Users/yuzu/Library/Python/3.9/lib/python/site-packages (from matplotlib~=3.0->gradio) (1.2.0)\n",
      "Requirement already satisfied: cycler>=0.10 in /Users/yuzu/Library/Python/3.9/lib/python/site-packages (from matplotlib~=3.0->gradio) (0.12.1)\n",
      "Requirement already satisfied: fonttools>=4.22.0 in /Users/yuzu/Library/Python/3.9/lib/python/site-packages (from matplotlib~=3.0->gradio) (4.50.0)\n",
      "Requirement already satisfied: kiwisolver>=1.3.1 in /Users/yuzu/Library/Python/3.9/lib/python/site-packages (from matplotlib~=3.0->gradio) (1.4.5)\n",
      "Requirement already satisfied: pyparsing>=2.3.1 in /Users/yuzu/Library/Python/3.9/lib/python/site-packages (from matplotlib~=3.0->gradio) (3.1.2)\n",
      "Requirement already satisfied: python-dateutil>=2.7 in /Users/yuzu/Library/Python/3.9/lib/python/site-packages (from matplotlib~=3.0->gradio) (2.9.0.post0)\n",
      "Requirement already satisfied: pytz>=2020.1 in /Users/yuzu/Library/Python/3.9/lib/python/site-packages (from pandas<3.0,>=1.0->gradio) (2024.1)\n",
      "Requirement already satisfied: tzdata>=2022.1 in /Users/yuzu/Library/Python/3.9/lib/python/site-packages (from pandas<3.0,>=1.0->gradio) (2024.1)\n",
      "Requirement already satisfied: charset-normalizer<4,>=2 in /Users/yuzu/Library/Python/3.9/lib/python/site-packages (from requests~=2.0->gradio) (3.3.2)\n",
      "Requirement already satisfied: idna<4,>=2.5 in /Users/yuzu/Library/Python/3.9/lib/python/site-packages (from requests~=2.0->gradio) (3.6)\n",
      "Requirement already satisfied: urllib3<3,>=1.21.1 in /Users/yuzu/Library/Python/3.9/lib/python/site-packages (from requests~=2.0->gradio) (1.26.18)\n",
      "Requirement already satisfied: certifi>=2017.4.17 in /Users/yuzu/Library/Python/3.9/lib/python/site-packages (from requests~=2.0->gradio) (2024.2.2)\n",
      "Requirement already satisfied: click>=7.0 in /Users/yuzu/Library/Python/3.9/lib/python/site-packages (from uvicorn>=0.14.0->gradio) (8.1.7)\n",
      "Requirement already satisfied: h11>=0.8 in /Users/yuzu/Library/Python/3.9/lib/python/site-packages (from uvicorn>=0.14.0->gradio) (0.14.0)\n",
      "Requirement already satisfied: starlette<0.37.0,>=0.36.3 in /Users/yuzu/Library/Python/3.9/lib/python/site-packages (from fastapi->gradio) (0.36.3)\n",
      "Requirement already satisfied: anyio in /Users/yuzu/Library/Python/3.9/lib/python/site-packages (from httpx->gradio) (4.3.0)\n",
      "Requirement already satisfied: httpcore==1.* in /Users/yuzu/Library/Python/3.9/lib/python/site-packages (from httpx->gradio) (1.0.5)\n",
      "Requirement already satisfied: sniffio in /Users/yuzu/Library/Python/3.9/lib/python/site-packages (from httpx->gradio) (1.3.1)\n",
      "Requirement already satisfied: attrs>=22.2.0 in /Users/yuzu/Library/Python/3.9/lib/python/site-packages (from jsonschema>=3.0->altair<6.0,>=4.2.0->gradio) (23.2.0)\n",
      "Requirement already satisfied: jsonschema-specifications>=2023.03.6 in /Users/yuzu/Library/Python/3.9/lib/python/site-packages (from jsonschema>=3.0->altair<6.0,>=4.2.0->gradio) (2023.12.1)\n",
      "Requirement already satisfied: referencing>=0.28.4 in /Users/yuzu/Library/Python/3.9/lib/python/site-packages (from jsonschema>=3.0->altair<6.0,>=4.2.0->gradio) (0.34.0)\n",
      "Requirement already satisfied: rpds-py>=0.7.1 in /Users/yuzu/Library/Python/3.9/lib/python/site-packages (from jsonschema>=3.0->altair<6.0,>=4.2.0->gradio) (0.18.0)\n",
      "Requirement already satisfied: six>=1.5 in /Applications/Xcode.app/Contents/Developer/Library/Frameworks/Python3.framework/Versions/3.9/lib/python3.9/site-packages (from python-dateutil>=2.7->matplotlib~=3.0->gradio) (1.15.0)\n",
      "Requirement already satisfied: exceptiongroup>=1.0.2 in /Users/yuzu/Library/Python/3.9/lib/python/site-packages (from anyio->httpx->gradio) (1.2.0)\n",
      "\n",
      "\u001b[1m[\u001b[0m\u001b[34;49mnotice\u001b[0m\u001b[1;39;49m]\u001b[0m\u001b[39;49m A new release of pip is available: \u001b[0m\u001b[31;49m24.0\u001b[0m\u001b[39;49m -> \u001b[0m\u001b[32;49m24.2\u001b[0m\n",
      "\u001b[1m[\u001b[0m\u001b[34;49mnotice\u001b[0m\u001b[1;39;49m]\u001b[0m\u001b[39;49m To update, run: \u001b[0m\u001b[32;49m/Applications/Xcode.app/Contents/Developer/usr/bin/python3 -m pip install --upgrade pip\u001b[0m\n"
     ]
    }
   ],
   "source": [
    "!pip3 install gradio"
   ]
  },
  {
   "cell_type": "code",
   "execution_count": 37,
   "metadata": {},
   "outputs": [
    {
     "name": "stdout",
     "output_type": "stream",
     "text": [
      "Running on local URL:  http://127.0.0.1:7861\n",
      "\n",
      "To create a public link, set `share=True` in `launch()`.\n"
     ]
    },
    {
     "data": {
      "text/html": [
       "<div><iframe src=\"http://127.0.0.1:7861/\" width=\"100%\" height=\"500\" allow=\"autoplay; camera; microphone; clipboard-read; clipboard-write;\" frameborder=\"0\" allowfullscreen></iframe></div>"
      ],
      "text/plain": [
       "<IPython.core.display.HTML object>"
      ]
     },
     "metadata": {},
     "output_type": "display_data"
    },
    {
     "data": {
      "text/plain": []
     },
     "execution_count": 37,
     "metadata": {},
     "output_type": "execute_result"
    },
    {
     "name": "stdout",
     "output_type": "stream",
     "text": [
      "IMPORTANT: You are using gradio version 3.42.0, however version 4.29.0 is available, please upgrade.\n",
      "--------\n"
     ]
    }
   ],
   "source": [
    "import gradio as gr\n",
    "\n",
    "\n",
    "# Gradioインターフェースを定義\n",
    "with gr.Blocks() as demo:\n",
    "    gr.HTML(map_._repr_html_())  # GradioでHTML表示\n",
    "\n",
    "# インターフェースを実行\n",
    "demo.launch()"
   ]
  }
 ],
 "metadata": {
  "kernelspec": {
   "display_name": "Python 3",
   "language": "python",
   "name": "python3"
  },
  "language_info": {
   "codemirror_mode": {
    "name": "ipython",
    "version": 3
   },
   "file_extension": ".py",
   "mimetype": "text/x-python",
   "name": "python",
   "nbconvert_exporter": "python",
   "pygments_lexer": "ipython3",
   "version": "3.9.6"
  }
 },
 "nbformat": 4,
 "nbformat_minor": 2
}
