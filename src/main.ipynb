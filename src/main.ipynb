{
 "cells": [
  {
   "cell_type": "code",
   "execution_count": 1,
   "metadata": {},
   "outputs": [
    {
     "name": "stderr",
     "output_type": "stream",
     "text": [
      "/Users/yuzu/Library/Python/3.9/lib/python/site-packages/urllib3/__init__.py:35: NotOpenSSLWarning: urllib3 v2 only supports OpenSSL 1.1.1+, currently the 'ssl' module is compiled with 'LibreSSL 2.8.3'. See: https://github.com/urllib3/urllib3/issues/3020\n",
      "  warnings.warn(\n"
     ]
    }
   ],
   "source": [
    "# Import the following libraries\n",
    "import requests\n",
    "import folium\n",
    "import folium.plugins\n",
    "from folium import Map, TileLayer\n",
    "from pystac_client import Client\n",
    "import branca\n",
    "import pandas as pd\n",
    "import matplotlib.pyplot as plt\n",
    "from tabulate import tabulate\n",
    "import branca.colormap as cm\n",
    "import seaborn as sns"
   ]
  },
  {
   "cell_type": "code",
   "execution_count": 2,
   "metadata": {},
   "outputs": [
    {
     "name": "stdout",
     "output_type": "stream",
     "text": [
      "Defaulting to user installation because normal site-packages is not writeable\n",
      "Requirement already satisfied: gradio in /Users/yuzu/Library/Python/3.9/lib/python/site-packages (4.44.1)\n",
      "Requirement already satisfied: aiofiles<24.0,>=22.0 in /Users/yuzu/Library/Python/3.9/lib/python/site-packages (from gradio) (23.2.1)\n",
      "Requirement already satisfied: anyio<5.0,>=3.0 in /Users/yuzu/Library/Python/3.9/lib/python/site-packages (from gradio) (4.3.0)\n",
      "Requirement already satisfied: fastapi<1.0 in /Users/yuzu/Library/Python/3.9/lib/python/site-packages (from gradio) (0.110.0)\n",
      "Requirement already satisfied: ffmpy in /Users/yuzu/Library/Python/3.9/lib/python/site-packages (from gradio) (0.3.2)\n",
      "Requirement already satisfied: gradio-client==1.3.0 in /Users/yuzu/Library/Python/3.9/lib/python/site-packages (from gradio) (1.3.0)\n",
      "Requirement already satisfied: httpx>=0.24.1 in /Users/yuzu/Library/Python/3.9/lib/python/site-packages (from gradio) (0.27.0)\n",
      "Requirement already satisfied: huggingface-hub>=0.19.3 in /Users/yuzu/Library/Python/3.9/lib/python/site-packages (from gradio) (0.22.1)\n",
      "Requirement already satisfied: importlib-resources<7.0,>=1.3 in /Users/yuzu/Library/Python/3.9/lib/python/site-packages (from gradio) (5.12.0)\n",
      "Requirement already satisfied: jinja2<4.0 in /Users/yuzu/Library/Python/3.9/lib/python/site-packages (from gradio) (3.1.3)\n",
      "Requirement already satisfied: markupsafe~=2.0 in /Users/yuzu/Library/Python/3.9/lib/python/site-packages (from gradio) (2.1.5)\n",
      "Requirement already satisfied: matplotlib~=3.0 in /Users/yuzu/Library/Python/3.9/lib/python/site-packages (from gradio) (3.8.3)\n",
      "Requirement already satisfied: numpy<3.0,>=1.0 in /Users/yuzu/Library/Python/3.9/lib/python/site-packages (from gradio) (1.26.4)\n",
      "Requirement already satisfied: orjson~=3.0 in /Users/yuzu/Library/Python/3.9/lib/python/site-packages (from gradio) (3.10.0)\n",
      "Requirement already satisfied: packaging in /Users/yuzu/Library/Python/3.9/lib/python/site-packages (from gradio) (24.0)\n",
      "Requirement already satisfied: pandas<3.0,>=1.0 in /Users/yuzu/Library/Python/3.9/lib/python/site-packages (from gradio) (2.0.2)\n",
      "Requirement already satisfied: pillow<11.0,>=8.0 in /Users/yuzu/Library/Python/3.9/lib/python/site-packages (from gradio) (10.2.0)\n",
      "Requirement already satisfied: pydantic>=2.0 in /Users/yuzu/Library/Python/3.9/lib/python/site-packages (from gradio) (2.9.2)\n",
      "Requirement already satisfied: pydub in /Users/yuzu/Library/Python/3.9/lib/python/site-packages (from gradio) (0.25.1)\n",
      "Requirement already satisfied: python-multipart>=0.0.9 in /Users/yuzu/Library/Python/3.9/lib/python/site-packages (from gradio) (0.0.9)\n",
      "Requirement already satisfied: pyyaml<7.0,>=5.0 in /Users/yuzu/Library/Python/3.9/lib/python/site-packages (from gradio) (6.0.1)\n",
      "Requirement already satisfied: ruff>=0.2.2 in /Users/yuzu/Library/Python/3.9/lib/python/site-packages (from gradio) (0.3.4)\n",
      "Requirement already satisfied: semantic-version~=2.0 in /Users/yuzu/Library/Python/3.9/lib/python/site-packages (from gradio) (2.10.0)\n",
      "Requirement already satisfied: tomlkit==0.12.0 in /Users/yuzu/Library/Python/3.9/lib/python/site-packages (from gradio) (0.12.0)\n",
      "Requirement already satisfied: typer<1.0,>=0.12 in /Users/yuzu/Library/Python/3.9/lib/python/site-packages (from gradio) (0.12.5)\n",
      "Requirement already satisfied: typing-extensions~=4.0 in /Users/yuzu/Library/Python/3.9/lib/python/site-packages (from gradio) (4.10.0)\n",
      "Requirement already satisfied: urllib3~=2.0 in /Users/yuzu/Library/Python/3.9/lib/python/site-packages (from gradio) (2.2.3)\n",
      "Requirement already satisfied: uvicorn>=0.14.0 in /Users/yuzu/Library/Python/3.9/lib/python/site-packages (from gradio) (0.29.0)\n",
      "Requirement already satisfied: fsspec in /Users/yuzu/Library/Python/3.9/lib/python/site-packages (from gradio-client==1.3.0->gradio) (2024.3.1)\n",
      "Requirement already satisfied: websockets<13.0,>=10.0 in /Users/yuzu/Library/Python/3.9/lib/python/site-packages (from gradio-client==1.3.0->gradio) (11.0.3)\n",
      "Requirement already satisfied: idna>=2.8 in /Users/yuzu/Library/Python/3.9/lib/python/site-packages (from anyio<5.0,>=3.0->gradio) (3.6)\n",
      "Requirement already satisfied: sniffio>=1.1 in /Users/yuzu/Library/Python/3.9/lib/python/site-packages (from anyio<5.0,>=3.0->gradio) (1.3.1)\n",
      "Requirement already satisfied: exceptiongroup>=1.0.2 in /Users/yuzu/Library/Python/3.9/lib/python/site-packages (from anyio<5.0,>=3.0->gradio) (1.2.0)\n",
      "Requirement already satisfied: starlette<0.37.0,>=0.36.3 in /Users/yuzu/Library/Python/3.9/lib/python/site-packages (from fastapi<1.0->gradio) (0.36.3)\n",
      "Requirement already satisfied: certifi in /Users/yuzu/Library/Python/3.9/lib/python/site-packages (from httpx>=0.24.1->gradio) (2024.2.2)\n",
      "Requirement already satisfied: httpcore==1.* in /Users/yuzu/Library/Python/3.9/lib/python/site-packages (from httpx>=0.24.1->gradio) (1.0.5)\n",
      "Requirement already satisfied: h11<0.15,>=0.13 in /Users/yuzu/Library/Python/3.9/lib/python/site-packages (from httpcore==1.*->httpx>=0.24.1->gradio) (0.14.0)\n",
      "Requirement already satisfied: filelock in /Users/yuzu/Library/Python/3.9/lib/python/site-packages (from huggingface-hub>=0.19.3->gradio) (3.13.3)\n",
      "Requirement already satisfied: requests in /Users/yuzu/Library/Python/3.9/lib/python/site-packages (from huggingface-hub>=0.19.3->gradio) (2.31.0)\n",
      "Requirement already satisfied: tqdm>=4.42.1 in /Users/yuzu/Library/Python/3.9/lib/python/site-packages (from huggingface-hub>=0.19.3->gradio) (4.66.2)\n",
      "Requirement already satisfied: zipp>=3.1.0 in /Users/yuzu/Library/Python/3.9/lib/python/site-packages (from importlib-resources<7.0,>=1.3->gradio) (3.18.1)\n",
      "Requirement already satisfied: contourpy>=1.0.1 in /Users/yuzu/Library/Python/3.9/lib/python/site-packages (from matplotlib~=3.0->gradio) (1.2.0)\n",
      "Requirement already satisfied: cycler>=0.10 in /Users/yuzu/Library/Python/3.9/lib/python/site-packages (from matplotlib~=3.0->gradio) (0.12.1)\n",
      "Requirement already satisfied: fonttools>=4.22.0 in /Users/yuzu/Library/Python/3.9/lib/python/site-packages (from matplotlib~=3.0->gradio) (4.50.0)\n",
      "Requirement already satisfied: kiwisolver>=1.3.1 in /Users/yuzu/Library/Python/3.9/lib/python/site-packages (from matplotlib~=3.0->gradio) (1.4.5)\n",
      "Requirement already satisfied: pyparsing>=2.3.1 in /Users/yuzu/Library/Python/3.9/lib/python/site-packages (from matplotlib~=3.0->gradio) (3.1.2)\n",
      "Requirement already satisfied: python-dateutil>=2.7 in /Users/yuzu/Library/Python/3.9/lib/python/site-packages (from matplotlib~=3.0->gradio) (2.9.0.post0)\n",
      "Requirement already satisfied: pytz>=2020.1 in /Users/yuzu/Library/Python/3.9/lib/python/site-packages (from pandas<3.0,>=1.0->gradio) (2024.1)\n",
      "Requirement already satisfied: tzdata>=2022.1 in /Users/yuzu/Library/Python/3.9/lib/python/site-packages (from pandas<3.0,>=1.0->gradio) (2024.1)\n",
      "Requirement already satisfied: annotated-types>=0.6.0 in /Users/yuzu/Library/Python/3.9/lib/python/site-packages (from pydantic>=2.0->gradio) (0.6.0)\n",
      "Requirement already satisfied: pydantic-core==2.23.4 in /Users/yuzu/Library/Python/3.9/lib/python/site-packages (from pydantic>=2.0->gradio) (2.23.4)\n",
      "Requirement already satisfied: click>=8.0.0 in /Users/yuzu/Library/Python/3.9/lib/python/site-packages (from typer<1.0,>=0.12->gradio) (8.1.7)\n",
      "Requirement already satisfied: shellingham>=1.3.0 in /Users/yuzu/Library/Python/3.9/lib/python/site-packages (from typer<1.0,>=0.12->gradio) (1.5.4)\n",
      "Requirement already satisfied: rich>=10.11.0 in /Users/yuzu/Library/Python/3.9/lib/python/site-packages (from typer<1.0,>=0.12->gradio) (13.7.1)\n",
      "Requirement already satisfied: six>=1.5 in /Applications/Xcode.app/Contents/Developer/Library/Frameworks/Python3.framework/Versions/3.9/lib/python3.9/site-packages (from python-dateutil>=2.7->matplotlib~=3.0->gradio) (1.15.0)\n",
      "Requirement already satisfied: markdown-it-py>=2.2.0 in /Users/yuzu/Library/Python/3.9/lib/python/site-packages (from rich>=10.11.0->typer<1.0,>=0.12->gradio) (3.0.0)\n",
      "Requirement already satisfied: pygments<3.0.0,>=2.13.0 in /Users/yuzu/Library/Python/3.9/lib/python/site-packages (from rich>=10.11.0->typer<1.0,>=0.12->gradio) (2.17.2)\n",
      "Requirement already satisfied: charset-normalizer<4,>=2 in /Users/yuzu/Library/Python/3.9/lib/python/site-packages (from requests->huggingface-hub>=0.19.3->gradio) (3.3.2)\n",
      "Requirement already satisfied: mdurl~=0.1 in /Users/yuzu/Library/Python/3.9/lib/python/site-packages (from markdown-it-py>=2.2.0->rich>=10.11.0->typer<1.0,>=0.12->gradio) (0.1.2)\n",
      "\n",
      "\u001b[1m[\u001b[0m\u001b[34;49mnotice\u001b[0m\u001b[1;39;49m]\u001b[0m\u001b[39;49m A new release of pip is available: \u001b[0m\u001b[31;49m24.0\u001b[0m\u001b[39;49m -> \u001b[0m\u001b[32;49m24.2\u001b[0m\n",
      "\u001b[1m[\u001b[0m\u001b[34;49mnotice\u001b[0m\u001b[1;39;49m]\u001b[0m\u001b[39;49m To update, run: \u001b[0m\u001b[32;49m/Applications/Xcode.app/Contents/Developer/usr/bin/python3 -m pip install --upgrade pip\u001b[0m\n"
     ]
    }
   ],
   "source": [
    "!pip3 install --upgrade gradio"
   ]
  },
  {
   "cell_type": "code",
   "execution_count": 23,
   "metadata": {},
   "outputs": [
    {
     "name": "stdout",
     "output_type": "stream",
     "text": [
      "Defaulting to user installation because normal site-packages is not writeable\n",
      "Collecting geopy\n",
      "  Downloading geopy-2.4.1-py3-none-any.whl.metadata (6.8 kB)\n",
      "Collecting geographiclib<3,>=1.52 (from geopy)\n",
      "  Downloading geographiclib-2.0-py3-none-any.whl.metadata (1.4 kB)\n",
      "Downloading geopy-2.4.1-py3-none-any.whl (125 kB)\n",
      "\u001b[2K   \u001b[90m━━━━━━━━━━━━━━━━━━━━━━━━━━━━━━━━━━━━━━━━\u001b[0m \u001b[32m125.4/125.4 kB\u001b[0m \u001b[31m1.3 MB/s\u001b[0m eta \u001b[36m0:00:00\u001b[0ma \u001b[36m0:00:01\u001b[0m\n",
      "\u001b[?25hDownloading geographiclib-2.0-py3-none-any.whl (40 kB)\n",
      "\u001b[2K   \u001b[90m━━━━━━━━━━━━━━━━━━━━━━━━━━━━━━━━━━━━━━━━\u001b[0m \u001b[32m40.3/40.3 kB\u001b[0m \u001b[31m2.5 MB/s\u001b[0m eta \u001b[36m0:00:00\u001b[0m\n",
      "\u001b[?25hInstalling collected packages: geographiclib, geopy\n",
      "Successfully installed geographiclib-2.0 geopy-2.4.1\n",
      "\n",
      "\u001b[1m[\u001b[0m\u001b[34;49mnotice\u001b[0m\u001b[1;39;49m]\u001b[0m\u001b[39;49m A new release of pip is available: \u001b[0m\u001b[31;49m24.0\u001b[0m\u001b[39;49m -> \u001b[0m\u001b[32;49m24.2\u001b[0m\n",
      "\u001b[1m[\u001b[0m\u001b[34;49mnotice\u001b[0m\u001b[1;39;49m]\u001b[0m\u001b[39;49m To update, run: \u001b[0m\u001b[32;49m/Applications/Xcode.app/Contents/Developer/usr/bin/python3 -m pip install --upgrade pip\u001b[0m\n"
     ]
    }
   ],
   "source": [
    "!pip3 install geopy"
   ]
  },
  {
   "cell_type": "code",
   "execution_count": 2,
   "metadata": {},
   "outputs": [],
   "source": [
    "# Provide the STAC and RASTER API endpoints\n",
    "# The endpoint is referring to a location within the API that executes a request on a data collection nesting on the server.\n",
    "\n",
    "# The STAC API is a catalog of all the existing data collections that are stored in the GHG Center.\n",
    "STAC_API_URL = \"https://earth.gov/ghgcenter/api/stac\"\n",
    "\n",
    "# The RASTER API is used to fetch collections for visualization\n",
    "RASTER_API_URL = \"https://earth.gov/ghgcenter/api/raster\"\n",
    "\n",
    "# The collection name is used to fetch the dataset from the STAC API. First, we define the collection name as a variable\n",
    "# Name of the collection for Vulcan Fossil Fuel CO₂ Emissions, Version 4. \n",
    "collection_ffco2 = \"odiac-ffco2-monthgrid-v2023\"\n",
    "# Name of the collection for MiCASA Land Carbon Flux\n",
    "collection_landcarbon = \"micasa-carbonflux-daygrid-v1\"\n",
    "# Name of the collection for methane emission plumes \n",
    "collection_ch4plume = \"emit-ch4plume-v1\""
   ]
  },
  {
   "cell_type": "code",
   "execution_count": 3,
   "metadata": {},
   "outputs": [],
   "source": [
    "collection_ffco2 = requests.get(f\"{STAC_API_URL}/collections/{collection_ffco2}\").json()\n",
    "collection_landcarbon = requests.get(f\"{STAC_API_URL}/collections/{collection_landcarbon}\").json()\n",
    "collection_ch4plume = requests.get(f\"{STAC_API_URL}/collections/{collection_ch4plume}\").json()"
   ]
  },
  {
   "cell_type": "code",
   "execution_count": 4,
   "metadata": {},
   "outputs": [],
   "source": [
    "def get_item_count(collection_id):\n",
    "    count = 0\n",
    "    items_url = f\"{STAC_API_URL}/collections/{collection_id}/items\"\n",
    "\n",
    "    while True:\n",
    "        response = requests.get(items_url)\n",
    "\n",
    "        if not response.ok:\n",
    "            print(\"error getting items\")\n",
    "            exit()\n",
    "\n",
    "        stac = response.json()\n",
    "        count += int(stac[\"context\"].get(\"returned\", 0))\n",
    "        next = [link for link in stac[\"links\"] if link[\"rel\"] == \"next\"]\n",
    "\n",
    "        if not next:\n",
    "            break\n",
    "        items_url = next[0][\"href\"]\n",
    "\n",
    "    return count"
   ]
  },
  {
   "cell_type": "code",
   "execution_count": 5,
   "metadata": {},
   "outputs": [],
   "source": [
    "num_items_ffco2 = get_item_count(collection_ffco2[\"id\"])\n",
    "\n",
    "items_ffco2 = requests.get(f\"{STAC_API_URL}/collections/{collection_ffco2['id']}/items?limit={num_items_ffco2}\").json()[\"features\"]"
   ]
  },
  {
   "cell_type": "code",
   "execution_count": 6,
   "metadata": {},
   "outputs": [],
   "source": [
    "# num_items_landcarbon = get_item_count(collection_landcarbon[\"id\"])\n",
    "num_items_landcarbon = 800\n",
    "\n",
    "items_landcarbon = requests.get(f\"{STAC_API_URL}/collections/{collection_landcarbon['id']}/items?limit={num_items_landcarbon}\").json()[\"features\"]"
   ]
  },
  {
   "cell_type": "code",
   "execution_count": 7,
   "metadata": {},
   "outputs": [],
   "source": [
    "num_items_ch4plume = 1493\n",
    "\n",
    "items_ch4plume = requests.get(f\"{STAC_API_URL}/collections/{collection_ch4plume['id']}/items?limit={num_items_ch4plume}\").json()[\"features\"]"
   ]
  },
  {
   "cell_type": "code",
   "execution_count": 8,
   "metadata": {},
   "outputs": [],
   "source": [
    "items_ffco2 = {item[\"properties\"][\"start_datetime\"][:7]: item for item in items_ffco2}\n",
    "items_landcarbon = {item[\"properties\"][\"datetime\"][:10]: item for item in items_landcarbon}\n",
    "items_ch4plume = {item[\"id\"]: item for item in items_ch4plume}\n",
    "\n",
    "asset_ffco2 = \"co2-emissions\"\n",
    "asset_landcarbon = \"rh\"\n",
    "assert_ch4plume = \"ch4-plume-emissions\""
   ]
  },
  {
   "cell_type": "code",
   "execution_count": 9,
   "metadata": {},
   "outputs": [],
   "source": [
    "rescale_ffco2 = {\"max\":items_ffco2[list(items_ffco2.keys())[0]][\"assets\"][asset_ffco2][\"raster:bands\"][0][\"histogram\"][\"max\"], \"min\":items_ffco2[list(items_ffco2.keys())[0]][\"assets\"][asset_ffco2][\"raster:bands\"][0][\"histogram\"][\"min\"]}\n",
    "rescale_landcarbon = {\"max\":items_landcarbon[list(items_landcarbon.keys())[0]][\"assets\"][asset_landcarbon][\"raster:bands\"][0][\"histogram\"][\"max\"], \"min\":items_landcarbon[list(items_landcarbon.keys())[0]][\"assets\"][asset_landcarbon][\"raster:bands\"][0][\"histogram\"][\"min\"]}\n",
    "rescale_ch4plume = {\"max\":items_ch4plume[list(items_ch4plume.keys())[0]][\"assets\"][assert_ch4plume][\"raster:bands\"][0][\"histogram\"][\"max\"], \"min\":items_ch4plume[list(items_ch4plume.keys())[0]][\"assets\"][assert_ch4plume][\"raster:bands\"][0][\"histogram\"][\"min\"]}"
   ]
  },
  {
   "cell_type": "code",
   "execution_count": 10,
   "metadata": {},
   "outputs": [],
   "source": [
    "from geopy.geocoders import Nominatim\n",
    "\n",
    "def search_location(location):\n",
    "    geolocator = Nominatim(user_agent=\"user-id\")\n",
    "    location = geolocator.geocode(location)\n",
    "    if location:\n",
    "        return location.latitude, location.longitude\n",
    "    else:\n",
    "        # 都市名が見つからなかった場合は、デフォルトの場所（東京）を返す\n",
    "        # print(f\"Error: '{city}' not found. Using default location (Tokyo).\")\n",
    "        return 35.682839, 139.759455  # 東京の緯度・経度"
   ]
  },
  {
   "cell_type": "code",
   "execution_count": 11,
   "metadata": {},
   "outputs": [],
   "source": [
    "import random\n",
    "from datetime import datetime, timedelta\n",
    "from branca.colormap import LinearColormap\n",
    "\n",
    "color_map = \"spectral_r\"\n",
    "\n",
    "def get_valid_tile_url(date, item_dict, asset, rescale, color_map):\n",
    "    \"\"\"\n",
    "    指定された日付でデータが存在するか確認し、なければ次の日に移行してデータを探す。\n",
    "    \"\"\"\n",
    "    while date <= datetime.now():  # 現在の日付までループ\n",
    "        if asset == \"rh\":\n",
    "            formatted_date = date.strftime(\"%Y-%m-%d\")\n",
    "        else:\n",
    "            formatted_date = date.strftime(\"%Y-%m\")\n",
    "        try:\n",
    "            tile_url = requests.get(\n",
    "                f\"{RASTER_API_URL}/collections/{item_dict[formatted_date]['collection']}/items/{item_dict[formatted_date]['id']}/tilejson.json?\"\n",
    "                f\"&assets={asset}\"\n",
    "                f\"&color_formula=gamma+r+1.05&colormap_name={color_map}\"\n",
    "                f\"&rescale={rescale['min']},{rescale['max']}\", \n",
    "            ).json()\n",
    "            return tile_url\n",
    "        except KeyError:\n",
    "            # 日付にデータが存在しない場合、次の日に進める\n",
    "            date += timedelta(days=1)\n",
    "    \n",
    "    # データが見つからなかった場合\n",
    "    print(f\"Error: Data not found for {date.strftime('%Y-%m-%d')}.\")\n",
    "    return None\n",
    "\n",
    "def year_map(city=\"tokyo\", year=2022, random_search=False):\n",
    "    year = str(year)\n",
    "    \n",
    "    # FFCO2タイルの取得\n",
    "    ffco2_date = datetime.strptime(f\"{year}-01\", \"%Y-%m\")\n",
    "    _ffco2_tile = get_valid_tile_url(ffco2_date, items_ffco2, asset_ffco2, rescale_ffco2, color_map)\n",
    "    \n",
    "    # landcarbonタイルの取得\n",
    "    landcarbon_date = datetime.strptime(f\"{year}-01-01\", \"%Y-%m-%d\")\n",
    "    _landcarbon_tile = get_valid_tile_url(landcarbon_date, items_landcarbon, asset_landcarbon, rescale_landcarbon, color_map)\n",
    "    \n",
    "    # 都市名に基づいて緯度経度を取得\n",
    "    lat, lng = search_location(city)\n",
    "\n",
    "    # FoliumのDualMapを作成\n",
    "    map_ = folium.plugins.DualMap(location=(lat, lng), zoom_start=6)\n",
    "    \n",
    "    # カラーマップの作成\n",
    "    colormap = LinearColormap(\n",
    "        colors=['#310597', '#4C02A1', '#6600A7', '#7E03A8', '#9511A1', '#AA2395', '#BC3587', '#CC4778', '#DA5A6A', '#E66C5C', '#F0804E', '#F89540','#FDAC33', '#FDC527', '#F8DF25'],\n",
    "        vmin=0, vmax=1500\n",
    "    )\n",
    "    \n",
    "    if random_search:\n",
    "        colormap.caption = 'ppm-m'\n",
    "        \n",
    "        ppm_value = colormap((rescale_ch4plume['max'] - rescale_ch4plume['min']) / 2)\n",
    "\n",
    "        # items_ch4plumeに基づいてランダムに15個のキーを取得\n",
    "        random_keys = random.sample(list(items_ch4plume.keys()), min(15, len(items_ch4plume)))\n",
    "        \n",
    "        for key in random_keys:\n",
    "            methane_plume_tile = requests.get(\n",
    "                f\"{RASTER_API_URL}/collections/{items_ch4plume[key]['collection']}/items/{items_ch4plume[key]['id']}/tilejson.json?\"\n",
    "                f\"&assets={assert_ch4plume}\"\n",
    "                f\"&color_formula=gamma+r+1.05&colormap_name={color_map}\"\n",
    "                f\"&rescale={rescale_ch4plume['min']},{rescale_ch4plume['max']}\", \n",
    "            ).json()\n",
    "            \n",
    "            # マーカーの作成とDualMapの両方に追加\n",
    "            for map_instance in [map_.m1, map_.m2]:\n",
    "                folium.Marker(\n",
    "                    location=[methane_plume_tile[\"center\"][1], methane_plume_tile[\"center\"][0]],\n",
    "                    popup=items_ch4plume[key][\"id\"],\n",
    "                    icon=folium.Icon(color=ppm_value, icon=\"cloud\"),\n",
    "                ).add_to(map_instance)\n",
    "        \n",
    "    # FFCO2タイルがあればレイヤーとして追加\n",
    "    if _ffco2_tile:\n",
    "        map_layer_ffco2 = TileLayer(\n",
    "            tiles=_ffco2_tile[\"tiles\"][0],\n",
    "            attr=\"GHG\",\n",
    "            name=f'{year} Total CO2 Fossil Fuel Emissions',\n",
    "            overlay=True,\n",
    "            opacity=0.8,\n",
    "        )\n",
    "        map_layer_ffco2.add_to(map_.m1)\n",
    "    \n",
    "    # landcarbonタイルがあればレイヤーとして追加\n",
    "    if _landcarbon_tile:\n",
    "        map_layer_landcarbon = TileLayer(\n",
    "            tiles=_landcarbon_tile[\"tiles\"][0],\n",
    "            attr=\"GHG\",\n",
    "            name=f'{year} RH Level',\n",
    "            overlay=True,\n",
    "            opacity=0.8,\n",
    "        )\n",
    "        map_layer_landcarbon.add_to(map_.m2)\n",
    "\n",
    "    return map_._repr_html_()"
   ]
  },
  {
   "cell_type": "code",
   "execution_count": 92,
   "metadata": {},
   "outputs": [
    {
     "data": {
      "text/plain": [
       "'<div style=\"width:100%;\"><div style=\"position:relative;width:100%;height:0;padding-bottom:60%;\"><span style=\"color:#565656\">Make this Notebook Trusted to load map: File -> Trust Notebook</span><iframe srcdoc=\"&lt;!DOCTYPE html&gt;\\n&lt;html&gt;\\n&lt;head&gt;\\n    \\n    &lt;meta http-equiv=&quot;content-type&quot; content=&quot;text/html; charset=UTF-8&quot; /&gt;\\n    \\n        &lt;script&gt;\\n            L_NO_TOUCH = false;\\n            L_DISABLE_3D = false;\\n        &lt;/script&gt;\\n    \\n    &lt;style&gt;html, body {width: 100%;height: 100%;margin: 0;padding: 0;}&lt;/style&gt;\\n    &lt;style&gt;#map {position:absolute;top:0;bottom:0;right:0;left:0;}&lt;/style&gt;\\n    &lt;script src=&quot;https://cdn.jsdelivr.net/npm/leaflet@1.9.3/dist/leaflet.js&quot;&gt;&lt;/script&gt;\\n    &lt;script src=&quot;https://code.jquery.com/jquery-3.7.1.min.js&quot;&gt;&lt;/script&gt;\\n    &lt;script src=&quot;https://cdn.jsdelivr.net/npm/bootstrap@5.2.2/dist/js/bootstrap.bundle.min.js&quot;&gt;&lt;/script&gt;\\n    &lt;script src=&quot;https://cdnjs.cloudflare.com/ajax/libs/Leaflet.awesome-markers/2.0.2/leaflet.awesome-markers.js&quot;&gt;&lt;/script&gt;\\n    &lt;link rel=&quot;stylesheet&quot; href=&quot;https://cdn.jsdelivr.net/npm/leaflet@1.9.3/dist/leaflet.css&quot;/&gt;\\n    &lt;link rel=&quot;stylesheet&quot; href=&quot;https://cdn.jsdelivr.net/npm/bootstrap@5.2.2/dist/css/bootstrap.min.css&quot;/&gt;\\n    &lt;link rel=&quot;stylesheet&quot; href=&quot;https://netdna.bootstrapcdn.com/bootstrap/3.0.0/css/bootstrap-glyphicons.css&quot;/&gt;\\n    &lt;link rel=&quot;stylesheet&quot; href=&quot;https://cdn.jsdelivr.net/npm/@fortawesome/fontawesome-free@6.2.0/css/all.min.css&quot;/&gt;\\n    &lt;link rel=&quot;stylesheet&quot; href=&quot;https://cdnjs.cloudflare.com/ajax/libs/Leaflet.awesome-markers/2.0.2/leaflet.awesome-markers.css&quot;/&gt;\\n    &lt;link rel=&quot;stylesheet&quot; href=&quot;https://cdn.jsdelivr.net/gh/python-visualization/folium/folium/templates/leaflet.awesome.rotate.min.css&quot;/&gt;\\n    \\n            &lt;meta name=&quot;viewport&quot; content=&quot;width=device-width,\\n                initial-scale=1.0, maximum-scale=1.0, user-scalable=no&quot; /&gt;\\n            &lt;style&gt;\\n                #map_0988238f459a54fb7baab4aacbbddec8 {\\n                    position: absolute;\\n                    width: 50.0%;\\n                    height: 100.0%;\\n                    left: 0.0%;\\n                    top: 0.0%;\\n                }\\n                .leaflet-container { font-size: 1rem; }\\n            &lt;/style&gt;\\n        \\n    \\n            &lt;meta name=&quot;viewport&quot; content=&quot;width=device-width,\\n                initial-scale=1.0, maximum-scale=1.0, user-scalable=no&quot; /&gt;\\n            &lt;style&gt;\\n                #map_4749263f1abaa777a8359a659a328f85 {\\n                    position: absolute;\\n                    width: 50.0%;\\n                    height: 100.0%;\\n                    left: 50.0%;\\n                    top: 0.0%;\\n                }\\n                .leaflet-container { font-size: 1rem; }\\n            &lt;/style&gt;\\n        \\n    &lt;script src=&quot;https://cdn.jsdelivr.net/gh/jieter/Leaflet.Sync/L.Map.Sync.min.js&quot;&gt;&lt;/script&gt;\\n&lt;/head&gt;\\n&lt;body&gt;\\n    \\n    \\n            &lt;div class=&quot;folium-map&quot; id=&quot;map_0988238f459a54fb7baab4aacbbddec8&quot; &gt;&lt;/div&gt;\\n        \\n    \\n            &lt;div class=&quot;folium-map&quot; id=&quot;map_4749263f1abaa777a8359a659a328f85&quot; &gt;&lt;/div&gt;\\n        \\n&lt;/body&gt;\\n&lt;script&gt;\\n    \\n    \\n            var map_0988238f459a54fb7baab4aacbbddec8 = L.map(\\n                &quot;map_0988238f459a54fb7baab4aacbbddec8&quot;,\\n                {\\n                    center: [35.6821936, 139.762221],\\n                    crs: L.CRS.EPSG3857,\\n                    zoom: 6,\\n                    zoomControl: true,\\n                    preferCanvas: false,\\n                }\\n            );\\n\\n            \\n\\n        \\n    \\n            var tile_layer_8c97eda8368b5cff4c072fa7d3a6d97a = L.tileLayer(\\n                &quot;https://tile.openstreetmap.org/{z}/{x}/{y}.png&quot;,\\n                {&quot;attribution&quot;: &quot;\\\\u0026copy; \\\\u003ca href=\\\\&quot;https://www.openstreetmap.org/copyright\\\\&quot;\\\\u003eOpenStreetMap\\\\u003c/a\\\\u003e contributors&quot;, &quot;detectRetina&quot;: false, &quot;maxNativeZoom&quot;: 19, &quot;maxZoom&quot;: 19, &quot;minZoom&quot;: 0, &quot;noWrap&quot;: false, &quot;opacity&quot;: 1, &quot;subdomains&quot;: &quot;abc&quot;, &quot;tms&quot;: false}\\n            );\\n        \\n    \\n            tile_layer_8c97eda8368b5cff4c072fa7d3a6d97a.addTo(map_0988238f459a54fb7baab4aacbbddec8);\\n        \\n    \\n            var tile_layer_ecbe800e0ec21cc626dd89928eb57606 = L.tileLayer(\\n                &quot;https://earth.gov/ghgcenter/api/raster/collections/odiac-ffco2-monthgrid-v2023/items/odiac-ffco2-monthgrid-v2023-odiac2023_1km_excl_intl_200301/tiles/WebMercatorQuad/{z}/{x}/{y}@1x?assets=co2-emissions\\\\u0026color_formula=gamma+r+1.05\\\\u0026colormap_name=spectral_r\\\\u0026rescale=-675.1028442382812%2C31415.447265625&quot;,\\n                {&quot;attribution&quot;: &quot;GHG&quot;, &quot;detectRetina&quot;: false, &quot;maxZoom&quot;: 18, &quot;minZoom&quot;: 0, &quot;noWrap&quot;: false, &quot;opacity&quot;: 0.8, &quot;subdomains&quot;: &quot;abc&quot;, &quot;tms&quot;: false}\\n            );\\n        \\n    \\n            tile_layer_ecbe800e0ec21cc626dd89928eb57606.addTo(map_0988238f459a54fb7baab4aacbbddec8);\\n        \\n    \\n            var map_4749263f1abaa777a8359a659a328f85 = L.map(\\n                &quot;map_4749263f1abaa777a8359a659a328f85&quot;,\\n                {\\n                    center: [35.6821936, 139.762221],\\n                    crs: L.CRS.EPSG3857,\\n                    zoom: 6,\\n                    zoomControl: true,\\n                    preferCanvas: false,\\n                }\\n            );\\n\\n            \\n\\n        \\n    \\n            var tile_layer_75e24193b320e341aef152602a3352c6 = L.tileLayer(\\n                &quot;https://tile.openstreetmap.org/{z}/{x}/{y}.png&quot;,\\n                {&quot;attribution&quot;: &quot;\\\\u0026copy; \\\\u003ca href=\\\\&quot;https://www.openstreetmap.org/copyright\\\\&quot;\\\\u003eOpenStreetMap\\\\u003c/a\\\\u003e contributors&quot;, &quot;detectRetina&quot;: false, &quot;maxNativeZoom&quot;: 19, &quot;maxZoom&quot;: 19, &quot;minZoom&quot;: 0, &quot;noWrap&quot;: false, &quot;opacity&quot;: 1, &quot;subdomains&quot;: &quot;abc&quot;, &quot;tms&quot;: false}\\n            );\\n        \\n    \\n            tile_layer_75e24193b320e341aef152602a3352c6.addTo(map_4749263f1abaa777a8359a659a328f85);\\n        \\n    \\n            var tile_layer_068f5d6f69439a29ea93de04e8887959 = L.tileLayer(\\n                &quot;https://earth.gov/ghgcenter/api/raster/collections/micasa-carbonflux-daygrid-v1/items/micasa-carbonflux-daygrid-v1-20211023/tiles/WebMercatorQuad/{z}/{x}/{y}@1x?assets=rh\\\\u0026color_formula=gamma+r+1.05\\\\u0026colormap_name=spectral_r\\\\u0026rescale=-0.35656991600990295%2C7.2141876220703125&quot;,\\n                {&quot;attribution&quot;: &quot;GHG&quot;, &quot;detectRetina&quot;: false, &quot;maxZoom&quot;: 18, &quot;minZoom&quot;: 0, &quot;noWrap&quot;: false, &quot;opacity&quot;: 0.8, &quot;subdomains&quot;: &quot;abc&quot;, &quot;tms&quot;: false}\\n            );\\n        \\n    \\n            tile_layer_068f5d6f69439a29ea93de04e8887959.addTo(map_4749263f1abaa777a8359a659a328f85);\\n        \\n    \\n            map_0988238f459a54fb7baab4aacbbddec8.sync(map_4749263f1abaa777a8359a659a328f85);\\n            map_4749263f1abaa777a8359a659a328f85.sync(map_0988238f459a54fb7baab4aacbbddec8);\\n        \\n&lt;/script&gt;\\n&lt;/html&gt;\" style=\"position:absolute;width:100%;height:100%;left:0;top:0;border:none !important;\" allowfullscreen webkitallowfullscreen mozallowfullscreen></iframe></div></div>'"
      ]
     },
     "execution_count": 92,
     "metadata": {},
     "output_type": "execute_result"
    }
   ],
   "source": [
    "year_map(\"tokyo\", 2003, False)"
   ]
  },
  {
   "cell_type": "code",
   "execution_count": 35,
   "metadata": {},
   "outputs": [
    {
     "name": "stdout",
     "output_type": "stream",
     "text": [
      "Running on local URL:  http://127.0.0.1:7901\n",
      "\n",
      "To create a public link, set `share=True` in `launch()`.\n"
     ]
    },
    {
     "data": {
      "text/html": [
       "<div><iframe src=\"http://127.0.0.1:7901/\" width=\"100%\" height=\"500\" allow=\"autoplay; camera; microphone; clipboard-read; clipboard-write;\" frameborder=\"0\" allowfullscreen></iframe></div>"
      ],
      "text/plain": [
       "<IPython.core.display.HTML object>"
      ]
     },
     "metadata": {},
     "output_type": "display_data"
    },
    {
     "data": {
      "text/plain": []
     },
     "execution_count": 35,
     "metadata": {},
     "output_type": "execute_result"
    }
   ],
   "source": [
    "import gradio as gr\n",
    "\n",
    "# 画像のパス\n",
    "image_path = \"./../images/nasa_space_apps.png\"\n",
    "\n",
    "# カスタムCSS\n",
    "custom_css = \"\"\"\n",
    "body {\n",
    "    font-family: Inter, Public Sans, sans-serif;\n",
    "    font-size: 20px !important;\n",
    "}\n",
    "\n",
    ".nasa_logo img {\n",
    "    margin-left: 50px;\n",
    "    background-color: black;\n",
    "}\n",
    "\n",
    ".logo img {\n",
    "    margin-right: 50px;\n",
    "}\n",
    "\n",
    ".header-container h1 {\n",
    "    font-size: 40px !important;  /* タイトルのフォントサイズを指定 */\n",
    "    text-align: left;           /* タイトルを中央揃え */\n",
    "    margin-top: 50px;          /* タイトルの上にスペースを追加 */\n",
    "}\n",
    "\n",
    ".markdown h1 {\n",
    "    font-size: 400px !important;\n",
    "    margin-top: 10px;             /* デフォルトのマージンを削除 */\n",
    "    margin-top: 100px;          /* デフォルトのマージンを削除 */\n",
    "}\n",
    "\n",
    ".markdown p {\n",
    "    font-size: 50px !important;  /* 段落のフォントサイズを指定 */\n",
    "}\n",
    "\n",
    ".map-title h3 {\n",
    "    text-align: center;\n",
    "    font-size: 20px;\n",
    "}\n",
    "\n",
    ".fadeout img {\n",
    "    position: fixed;\n",
    "    top: 0;\n",
    "    left: 0;\n",
    "    width: 100vw;  /* 幅を100%に */\n",
    "    height: 100vh; /* 高さを100%に */\n",
    "    object-fit: cover !important; /* 画像が領域を覆うように */\n",
    "    z-index: 100; /* 背景に配置するためのz-index */\n",
    "    transition: opacity 1s ease-out;  /* フェードアウトのアニメーション */\n",
    "}\n",
    "\"\"\"\n",
    "\n",
    "custom_js = \"\"\"\n",
    "function fadeout(duration = 1000, delay = 1500) {  // デフォルトのフェードアウト時間は1000ms、遅延時間は5000ms\n",
    "    const fadeOutElement = document.getElementById('fadeout');\n",
    "    \n",
    "    if (fadeOutElement) {\n",
    "        fadeOutElement.style.transition = `opacity ${duration}ms ease-out`;  // フェードアウトの時間を設定\n",
    "        setTimeout(() => {\n",
    "            fadeOutElement.style.opacity = '0';  // フェードアウト\n",
    "            setTimeout(() => {\n",
    "                fadeOutElement.style.display = 'none';  // 指定した時間後に非表示\n",
    "                console.log('Element faded out');\n",
    "            }, duration); // 指定した時間後に非表示\n",
    "        }, delay); // 指定した遅延時間後にフェードアウト開始\n",
    "    }\n",
    "    console.log('Fadeout function executed');\n",
    "    return true;\n",
    "}\n",
    "\n",
    "\"\"\"\n",
    "\n",
    "# Gradioインターフェースの作成\n",
    "with gr.Blocks(theme=gr.themes.Default(primary_hue=\"cyan\", secondary_hue=\"yellow\"), css=custom_css, js=custom_js, head=custom_js) as demo:\n",
    "    \n",
    "    # フェードアウトする画像\n",
    "    gr.Image('./../images/fadeout.jpg', elem_id=\"fadeout\", elem_classes=\"fadeout\", container=False, show_download_button=False, show_fullscreen_button=False)\n",
    "\n",
    "    # ヘッダーに画像とタイトルを挿入\n",
    "    with gr.Row():\n",
    "        gr.Image('./../images/nasa_space_apps.png', elem_classes=\"nasa_logo\", width=\"150px\", height=\"150px\", container=False, show_download_button=False, show_fullscreen_button=False)\n",
    "        gr.Image('./../images/logo.png', elem_classes=\"logo\", width=\"150px\", height=\"150px\", container=False, show_download_button=False, show_fullscreen_button=False)\n",
    "    \n",
    "    # ヘッダーの下に説明文\n",
    "    gr.Markdown(\"\"\"\n",
    "    <h2><p>This map shows the human-caused and natural greenhouse gas emissions data over the years. The left map shows the fossil fuel CO2 emissions and the right map shows the natural CO2 emissions.</p></h2>\n",
    "    \"\"\")\n",
    "    \n",
    "    # テキストボックスで都市名を検索\n",
    "    city_input = gr.Textbox(label=\"Enter a location to search for GHG emission data:\", placeholder=\"Type city name...\", lines=1)\n",
    "    \n",
    "    random_search = gr.Checkbox(label=\"Show large methane emissions\", value=False)\n",
    "    \n",
    "    # マップ表示エリア\n",
    "    output = gr.HTML()\n",
    "    \n",
    "    # スライダー（検索バー）を配置\n",
    "    year_slider = gr.Slider(2001, 2022, step=1, label=\"Select Year\", interactive=True)\n",
    "    \n",
    "    # 追加機能（年マップの更新など）\n",
    "    city_input.submit(year_map, inputs=[city_input, year_slider, random_search], outputs=output)\n",
    "    year_slider.change(year_map, inputs=[city_input, year_slider, random_search], outputs=output)\n",
    "\n",
    "# アプリケーションを起動\n",
    "demo.launch()"
   ]
  }
 ],
 "metadata": {
  "kernelspec": {
   "display_name": "Python 3",
   "language": "python",
   "name": "python3"
  },
  "language_info": {
   "codemirror_mode": {
    "name": "ipython",
    "version": 3
   },
   "file_extension": ".py",
   "mimetype": "text/x-python",
   "name": "python",
   "nbconvert_exporter": "python",
   "pygments_lexer": "ipython3",
   "version": "3.9.6"
  }
 },
 "nbformat": 4,
 "nbformat_minor": 2
}
