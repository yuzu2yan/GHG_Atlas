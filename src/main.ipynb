{
 "cells": [
  {
   "cell_type": "code",
   "execution_count": 60,
   "metadata": {},
   "outputs": [],
   "source": [
    "# Import the following libraries\n",
    "import requests\n",
    "import folium\n",
    "import folium.plugins\n",
    "from folium import Map, TileLayer\n",
    "from pystac_client import Client\n",
    "import branca\n",
    "import pandas as pd\n",
    "import matplotlib.pyplot as plt\n",
    "from tabulate import tabulate\n",
    "import branca.colormap as cm\n",
    "import seaborn as sns"
   ]
  },
  {
   "cell_type": "code",
   "execution_count": 2,
   "metadata": {},
   "outputs": [
    {
     "name": "stdout",
     "output_type": "stream",
     "text": [
      "Defaulting to user installation because normal site-packages is not writeable\n",
      "Requirement already satisfied: gradio in /Users/yuzu/Library/Python/3.9/lib/python/site-packages (4.44.1)\n",
      "Requirement already satisfied: aiofiles<24.0,>=22.0 in /Users/yuzu/Library/Python/3.9/lib/python/site-packages (from gradio) (23.2.1)\n",
      "Requirement already satisfied: anyio<5.0,>=3.0 in /Users/yuzu/Library/Python/3.9/lib/python/site-packages (from gradio) (4.3.0)\n",
      "Requirement already satisfied: fastapi<1.0 in /Users/yuzu/Library/Python/3.9/lib/python/site-packages (from gradio) (0.110.0)\n",
      "Requirement already satisfied: ffmpy in /Users/yuzu/Library/Python/3.9/lib/python/site-packages (from gradio) (0.3.2)\n",
      "Requirement already satisfied: gradio-client==1.3.0 in /Users/yuzu/Library/Python/3.9/lib/python/site-packages (from gradio) (1.3.0)\n",
      "Requirement already satisfied: httpx>=0.24.1 in /Users/yuzu/Library/Python/3.9/lib/python/site-packages (from gradio) (0.27.0)\n",
      "Requirement already satisfied: huggingface-hub>=0.19.3 in /Users/yuzu/Library/Python/3.9/lib/python/site-packages (from gradio) (0.22.1)\n",
      "Requirement already satisfied: importlib-resources<7.0,>=1.3 in /Users/yuzu/Library/Python/3.9/lib/python/site-packages (from gradio) (5.12.0)\n",
      "Requirement already satisfied: jinja2<4.0 in /Users/yuzu/Library/Python/3.9/lib/python/site-packages (from gradio) (3.1.3)\n",
      "Requirement already satisfied: markupsafe~=2.0 in /Users/yuzu/Library/Python/3.9/lib/python/site-packages (from gradio) (2.1.5)\n",
      "Requirement already satisfied: matplotlib~=3.0 in /Users/yuzu/Library/Python/3.9/lib/python/site-packages (from gradio) (3.8.3)\n",
      "Requirement already satisfied: numpy<3.0,>=1.0 in /Users/yuzu/Library/Python/3.9/lib/python/site-packages (from gradio) (1.26.4)\n",
      "Requirement already satisfied: orjson~=3.0 in /Users/yuzu/Library/Python/3.9/lib/python/site-packages (from gradio) (3.10.0)\n",
      "Requirement already satisfied: packaging in /Users/yuzu/Library/Python/3.9/lib/python/site-packages (from gradio) (24.0)\n",
      "Requirement already satisfied: pandas<3.0,>=1.0 in /Users/yuzu/Library/Python/3.9/lib/python/site-packages (from gradio) (2.0.2)\n",
      "Requirement already satisfied: pillow<11.0,>=8.0 in /Users/yuzu/Library/Python/3.9/lib/python/site-packages (from gradio) (10.2.0)\n",
      "Requirement already satisfied: pydantic>=2.0 in /Users/yuzu/Library/Python/3.9/lib/python/site-packages (from gradio) (2.9.2)\n",
      "Requirement already satisfied: pydub in /Users/yuzu/Library/Python/3.9/lib/python/site-packages (from gradio) (0.25.1)\n",
      "Requirement already satisfied: python-multipart>=0.0.9 in /Users/yuzu/Library/Python/3.9/lib/python/site-packages (from gradio) (0.0.9)\n",
      "Requirement already satisfied: pyyaml<7.0,>=5.0 in /Users/yuzu/Library/Python/3.9/lib/python/site-packages (from gradio) (6.0.1)\n",
      "Requirement already satisfied: ruff>=0.2.2 in /Users/yuzu/Library/Python/3.9/lib/python/site-packages (from gradio) (0.3.4)\n",
      "Requirement already satisfied: semantic-version~=2.0 in /Users/yuzu/Library/Python/3.9/lib/python/site-packages (from gradio) (2.10.0)\n",
      "Requirement already satisfied: tomlkit==0.12.0 in /Users/yuzu/Library/Python/3.9/lib/python/site-packages (from gradio) (0.12.0)\n",
      "Requirement already satisfied: typer<1.0,>=0.12 in /Users/yuzu/Library/Python/3.9/lib/python/site-packages (from gradio) (0.12.5)\n",
      "Requirement already satisfied: typing-extensions~=4.0 in /Users/yuzu/Library/Python/3.9/lib/python/site-packages (from gradio) (4.10.0)\n",
      "Requirement already satisfied: urllib3~=2.0 in /Users/yuzu/Library/Python/3.9/lib/python/site-packages (from gradio) (2.2.3)\n",
      "Requirement already satisfied: uvicorn>=0.14.0 in /Users/yuzu/Library/Python/3.9/lib/python/site-packages (from gradio) (0.29.0)\n",
      "Requirement already satisfied: fsspec in /Users/yuzu/Library/Python/3.9/lib/python/site-packages (from gradio-client==1.3.0->gradio) (2024.3.1)\n",
      "Requirement already satisfied: websockets<13.0,>=10.0 in /Users/yuzu/Library/Python/3.9/lib/python/site-packages (from gradio-client==1.3.0->gradio) (11.0.3)\n",
      "Requirement already satisfied: idna>=2.8 in /Users/yuzu/Library/Python/3.9/lib/python/site-packages (from anyio<5.0,>=3.0->gradio) (3.6)\n",
      "Requirement already satisfied: sniffio>=1.1 in /Users/yuzu/Library/Python/3.9/lib/python/site-packages (from anyio<5.0,>=3.0->gradio) (1.3.1)\n",
      "Requirement already satisfied: exceptiongroup>=1.0.2 in /Users/yuzu/Library/Python/3.9/lib/python/site-packages (from anyio<5.0,>=3.0->gradio) (1.2.0)\n",
      "Requirement already satisfied: starlette<0.37.0,>=0.36.3 in /Users/yuzu/Library/Python/3.9/lib/python/site-packages (from fastapi<1.0->gradio) (0.36.3)\n",
      "Requirement already satisfied: certifi in /Users/yuzu/Library/Python/3.9/lib/python/site-packages (from httpx>=0.24.1->gradio) (2024.2.2)\n",
      "Requirement already satisfied: httpcore==1.* in /Users/yuzu/Library/Python/3.9/lib/python/site-packages (from httpx>=0.24.1->gradio) (1.0.5)\n",
      "Requirement already satisfied: h11<0.15,>=0.13 in /Users/yuzu/Library/Python/3.9/lib/python/site-packages (from httpcore==1.*->httpx>=0.24.1->gradio) (0.14.0)\n",
      "Requirement already satisfied: filelock in /Users/yuzu/Library/Python/3.9/lib/python/site-packages (from huggingface-hub>=0.19.3->gradio) (3.13.3)\n",
      "Requirement already satisfied: requests in /Users/yuzu/Library/Python/3.9/lib/python/site-packages (from huggingface-hub>=0.19.3->gradio) (2.31.0)\n",
      "Requirement already satisfied: tqdm>=4.42.1 in /Users/yuzu/Library/Python/3.9/lib/python/site-packages (from huggingface-hub>=0.19.3->gradio) (4.66.2)\n",
      "Requirement already satisfied: zipp>=3.1.0 in /Users/yuzu/Library/Python/3.9/lib/python/site-packages (from importlib-resources<7.0,>=1.3->gradio) (3.18.1)\n",
      "Requirement already satisfied: contourpy>=1.0.1 in /Users/yuzu/Library/Python/3.9/lib/python/site-packages (from matplotlib~=3.0->gradio) (1.2.0)\n",
      "Requirement already satisfied: cycler>=0.10 in /Users/yuzu/Library/Python/3.9/lib/python/site-packages (from matplotlib~=3.0->gradio) (0.12.1)\n",
      "Requirement already satisfied: fonttools>=4.22.0 in /Users/yuzu/Library/Python/3.9/lib/python/site-packages (from matplotlib~=3.0->gradio) (4.50.0)\n",
      "Requirement already satisfied: kiwisolver>=1.3.1 in /Users/yuzu/Library/Python/3.9/lib/python/site-packages (from matplotlib~=3.0->gradio) (1.4.5)\n",
      "Requirement already satisfied: pyparsing>=2.3.1 in /Users/yuzu/Library/Python/3.9/lib/python/site-packages (from matplotlib~=3.0->gradio) (3.1.2)\n",
      "Requirement already satisfied: python-dateutil>=2.7 in /Users/yuzu/Library/Python/3.9/lib/python/site-packages (from matplotlib~=3.0->gradio) (2.9.0.post0)\n",
      "Requirement already satisfied: pytz>=2020.1 in /Users/yuzu/Library/Python/3.9/lib/python/site-packages (from pandas<3.0,>=1.0->gradio) (2024.1)\n",
      "Requirement already satisfied: tzdata>=2022.1 in /Users/yuzu/Library/Python/3.9/lib/python/site-packages (from pandas<3.0,>=1.0->gradio) (2024.1)\n",
      "Requirement already satisfied: annotated-types>=0.6.0 in /Users/yuzu/Library/Python/3.9/lib/python/site-packages (from pydantic>=2.0->gradio) (0.6.0)\n",
      "Requirement already satisfied: pydantic-core==2.23.4 in /Users/yuzu/Library/Python/3.9/lib/python/site-packages (from pydantic>=2.0->gradio) (2.23.4)\n",
      "Requirement already satisfied: click>=8.0.0 in /Users/yuzu/Library/Python/3.9/lib/python/site-packages (from typer<1.0,>=0.12->gradio) (8.1.7)\n",
      "Requirement already satisfied: shellingham>=1.3.0 in /Users/yuzu/Library/Python/3.9/lib/python/site-packages (from typer<1.0,>=0.12->gradio) (1.5.4)\n",
      "Requirement already satisfied: rich>=10.11.0 in /Users/yuzu/Library/Python/3.9/lib/python/site-packages (from typer<1.0,>=0.12->gradio) (13.7.1)\n",
      "Requirement already satisfied: six>=1.5 in /Applications/Xcode.app/Contents/Developer/Library/Frameworks/Python3.framework/Versions/3.9/lib/python3.9/site-packages (from python-dateutil>=2.7->matplotlib~=3.0->gradio) (1.15.0)\n",
      "Requirement already satisfied: markdown-it-py>=2.2.0 in /Users/yuzu/Library/Python/3.9/lib/python/site-packages (from rich>=10.11.0->typer<1.0,>=0.12->gradio) (3.0.0)\n",
      "Requirement already satisfied: pygments<3.0.0,>=2.13.0 in /Users/yuzu/Library/Python/3.9/lib/python/site-packages (from rich>=10.11.0->typer<1.0,>=0.12->gradio) (2.17.2)\n",
      "Requirement already satisfied: charset-normalizer<4,>=2 in /Users/yuzu/Library/Python/3.9/lib/python/site-packages (from requests->huggingface-hub>=0.19.3->gradio) (3.3.2)\n",
      "Requirement already satisfied: mdurl~=0.1 in /Users/yuzu/Library/Python/3.9/lib/python/site-packages (from markdown-it-py>=2.2.0->rich>=10.11.0->typer<1.0,>=0.12->gradio) (0.1.2)\n",
      "\n",
      "\u001b[1m[\u001b[0m\u001b[34;49mnotice\u001b[0m\u001b[1;39;49m]\u001b[0m\u001b[39;49m A new release of pip is available: \u001b[0m\u001b[31;49m24.0\u001b[0m\u001b[39;49m -> \u001b[0m\u001b[32;49m24.2\u001b[0m\n",
      "\u001b[1m[\u001b[0m\u001b[34;49mnotice\u001b[0m\u001b[1;39;49m]\u001b[0m\u001b[39;49m To update, run: \u001b[0m\u001b[32;49m/Applications/Xcode.app/Contents/Developer/usr/bin/python3 -m pip install --upgrade pip\u001b[0m\n"
     ]
    }
   ],
   "source": [
    "!pip3 install --upgrade gradio"
   ]
  },
  {
   "cell_type": "code",
   "execution_count": 23,
   "metadata": {},
   "outputs": [
    {
     "name": "stdout",
     "output_type": "stream",
     "text": [
      "Defaulting to user installation because normal site-packages is not writeable\n",
      "Collecting geopy\n",
      "  Downloading geopy-2.4.1-py3-none-any.whl.metadata (6.8 kB)\n",
      "Collecting geographiclib<3,>=1.52 (from geopy)\n",
      "  Downloading geographiclib-2.0-py3-none-any.whl.metadata (1.4 kB)\n",
      "Downloading geopy-2.4.1-py3-none-any.whl (125 kB)\n",
      "\u001b[2K   \u001b[90m━━━━━━━━━━━━━━━━━━━━━━━━━━━━━━━━━━━━━━━━\u001b[0m \u001b[32m125.4/125.4 kB\u001b[0m \u001b[31m1.3 MB/s\u001b[0m eta \u001b[36m0:00:00\u001b[0ma \u001b[36m0:00:01\u001b[0m\n",
      "\u001b[?25hDownloading geographiclib-2.0-py3-none-any.whl (40 kB)\n",
      "\u001b[2K   \u001b[90m━━━━━━━━━━━━━━━━━━━━━━━━━━━━━━━━━━━━━━━━\u001b[0m \u001b[32m40.3/40.3 kB\u001b[0m \u001b[31m2.5 MB/s\u001b[0m eta \u001b[36m0:00:00\u001b[0m\n",
      "\u001b[?25hInstalling collected packages: geographiclib, geopy\n",
      "Successfully installed geographiclib-2.0 geopy-2.4.1\n",
      "\n",
      "\u001b[1m[\u001b[0m\u001b[34;49mnotice\u001b[0m\u001b[1;39;49m]\u001b[0m\u001b[39;49m A new release of pip is available: \u001b[0m\u001b[31;49m24.0\u001b[0m\u001b[39;49m -> \u001b[0m\u001b[32;49m24.2\u001b[0m\n",
      "\u001b[1m[\u001b[0m\u001b[34;49mnotice\u001b[0m\u001b[1;39;49m]\u001b[0m\u001b[39;49m To update, run: \u001b[0m\u001b[32;49m/Applications/Xcode.app/Contents/Developer/usr/bin/python3 -m pip install --upgrade pip\u001b[0m\n"
     ]
    }
   ],
   "source": [
    "!pip3 install geopy"
   ]
  },
  {
   "cell_type": "code",
   "execution_count": 61,
   "metadata": {},
   "outputs": [],
   "source": [
    "# Provide the STAC and RASTER API endpoints\n",
    "# The endpoint is referring to a location within the API that executes a request on a data collection nesting on the server.\n",
    "\n",
    "# The STAC API is a catalog of all the existing data collections that are stored in the GHG Center.\n",
    "STAC_API_URL = \"https://earth.gov/ghgcenter/api/stac\"\n",
    "\n",
    "# The RASTER API is used to fetch collections for visualization\n",
    "RASTER_API_URL = \"https://earth.gov/ghgcenter/api/raster\"\n",
    "\n",
    "# The collection name is used to fetch the dataset from the STAC API. First, we define the collection name as a variable\n",
    "# Name of the collection for Vulcan Fossil Fuel CO₂ Emissions, Version 4. \n",
    "collection_ffco2 = \"odiac-ffco2-monthgrid-v2023\"\n",
    "# Name of the collection for MiCASA Land Carbon Flux\n",
    "collection_landcarbon = \"micasa-carbonflux-daygrid-v1\"\n",
    "# Name of the collection for methane emission plumes \n",
    "collection_ch4plume = \"emit-ch4plume-v1\""
   ]
  },
  {
   "cell_type": "code",
   "execution_count": 62,
   "metadata": {},
   "outputs": [],
   "source": [
    "collection_ffco2 = requests.get(f\"{STAC_API_URL}/collections/{collection_ffco2}\").json()\n",
    "collection_landcarbon = requests.get(f\"{STAC_API_URL}/collections/{collection_landcarbon}\").json()\n",
    "collection_ch4plume = requests.get(f\"{STAC_API_URL}/collections/{collection_ch4plume}\").json()"
   ]
  },
  {
   "cell_type": "code",
   "execution_count": 63,
   "metadata": {},
   "outputs": [],
   "source": [
    "def get_item_count(collection_id):\n",
    "    count = 0\n",
    "    items_url = f\"{STAC_API_URL}/collections/{collection_id}/items\"\n",
    "\n",
    "    while True:\n",
    "        response = requests.get(items_url)\n",
    "\n",
    "        if not response.ok:\n",
    "            print(\"error getting items\")\n",
    "            exit()\n",
    "\n",
    "        stac = response.json()\n",
    "        count += int(stac[\"context\"].get(\"returned\", 0))\n",
    "        next = [link for link in stac[\"links\"] if link[\"rel\"] == \"next\"]\n",
    "\n",
    "        if not next:\n",
    "            break\n",
    "        items_url = next[0][\"href\"]\n",
    "\n",
    "    return count"
   ]
  },
  {
   "cell_type": "code",
   "execution_count": 64,
   "metadata": {},
   "outputs": [],
   "source": [
    "num_items_ffco2 = get_item_count(collection_ffco2[\"id\"])\n",
    "\n",
    "items_ffco2 = requests.get(f\"{STAC_API_URL}/collections/{collection_ffco2['id']}/items?limit={num_items_ffco2}\").json()[\"features\"]"
   ]
  },
  {
   "cell_type": "code",
   "execution_count": 65,
   "metadata": {},
   "outputs": [],
   "source": [
    "# num_items_landcarbon = get_item_count(collection_landcarbon[\"id\"])\n",
    "num_items_landcarbon = 800\n",
    "\n",
    "items_landcarbon = requests.get(f\"{STAC_API_URL}/collections/{collection_landcarbon['id']}/items?limit={num_items_landcarbon}\").json()[\"features\"]"
   ]
  },
  {
   "cell_type": "code",
   "execution_count": 66,
   "metadata": {},
   "outputs": [],
   "source": [
    "num_items_ch4plume = 1493\n",
    "\n",
    "items_ch4plume = requests.get(f\"{STAC_API_URL}/collections/{collection_ch4plume['id']}/items?limit={num_items_ch4plume}\").json()[\"features\"]"
   ]
  },
  {
   "cell_type": "code",
   "execution_count": 67,
   "metadata": {},
   "outputs": [],
   "source": [
    "items_ffco2 = {item[\"properties\"][\"start_datetime\"][:7]: item for item in items_ffco2}\n",
    "items_landcarbon = {item[\"properties\"][\"datetime\"][:10]: item for item in items_landcarbon}\n",
    "items_ch4plume = {item[\"id\"]: item for item in items_ch4plume}\n",
    "\n",
    "asset_ffco2 = \"co2-emissions\"\n",
    "asset_landcarbon = \"rh\"\n",
    "assert_ch4plume = \"ch4-plume-emissions\""
   ]
  },
  {
   "cell_type": "code",
   "execution_count": 68,
   "metadata": {},
   "outputs": [],
   "source": [
    "rescale_ffco2 = {\"max\":items_ffco2[list(items_ffco2.keys())[0]][\"assets\"][asset_ffco2][\"raster:bands\"][0][\"histogram\"][\"max\"], \"min\":items_ffco2[list(items_ffco2.keys())[0]][\"assets\"][asset_ffco2][\"raster:bands\"][0][\"histogram\"][\"min\"]}\n",
    "rescale_landcarbon = {\"max\":items_landcarbon[list(items_landcarbon.keys())[0]][\"assets\"][asset_landcarbon][\"raster:bands\"][0][\"histogram\"][\"max\"], \"min\":items_landcarbon[list(items_landcarbon.keys())[0]][\"assets\"][asset_landcarbon][\"raster:bands\"][0][\"histogram\"][\"min\"]}\n",
    "rescale_ch4plume = {\"max\":items_ch4plume[list(items_ch4plume.keys())[0]][\"assets\"][assert_ch4plume][\"raster:bands\"][0][\"histogram\"][\"max\"], \"min\":items_ch4plume[list(items_ch4plume.keys())[0]][\"assets\"][assert_ch4plume][\"raster:bands\"][0][\"histogram\"][\"min\"]}"
   ]
  },
  {
   "cell_type": "code",
   "execution_count": 69,
   "metadata": {},
   "outputs": [],
   "source": [
    "from geopy.geocoders import Nominatim\n",
    "\n",
    "def search_location(location):\n",
    "    geolocator = Nominatim(user_agent=\"user-id\")\n",
    "    location = geolocator.geocode(location)\n",
    "    if location:\n",
    "        return location.latitude, location.longitude\n",
    "    else:\n",
    "        # 都市名が見つからなかった場合は、デフォルトの場所（東京）を返す\n",
    "        # print(f\"Error: '{city}' not found. Using default location (Tokyo).\")\n",
    "        return 35.682839, 139.759455  # 東京の緯度・経度"
   ]
  },
  {
   "cell_type": "code",
   "execution_count": 88,
   "metadata": {},
   "outputs": [],
   "source": [
    "import random\n",
    "from datetime import datetime, timedelta\n",
    "from branca.colormap import LinearColormap\n",
    "\n",
    "color_map = \"spectral_r\"\n",
    "\n",
    "def get_valid_tile_url(date, item_dict, asset, rescale, color_map):\n",
    "    \"\"\"\n",
    "    指定された日付でデータが存在するか確認し、なければ次の日に移行してデータを探す。\n",
    "    \"\"\"\n",
    "    while date <= datetime.now():  # 現在の日付までループ\n",
    "        if asset == \"rh\":\n",
    "            formatted_date = date.strftime(\"%Y-%m-%d\")\n",
    "        else:\n",
    "            formatted_date = date.strftime(\"%Y-%m\")\n",
    "        try:\n",
    "            tile_url = requests.get(\n",
    "                f\"{RASTER_API_URL}/collections/{item_dict[formatted_date]['collection']}/items/{item_dict[formatted_date]['id']}/tilejson.json?\"\n",
    "                f\"&assets={asset}\"\n",
    "                f\"&color_formula=gamma+r+1.05&colormap_name={color_map}\"\n",
    "                f\"&rescale={rescale['min']},{rescale['max']}\", \n",
    "            ).json()\n",
    "            return tile_url\n",
    "        except KeyError:\n",
    "            # 日付にデータが存在しない場合、次の日に進める\n",
    "            date += timedelta(days=1)\n",
    "    \n",
    "    # データが見つからなかった場合\n",
    "    print(f\"Error: Data not found for {date.strftime('%Y-%m-%d')}.\")\n",
    "    return None\n",
    "\n",
    "def year_map(city=\"tokyo\", year=2022):\n",
    "    year = str(year)\n",
    "    \n",
    "    # FFCO2タイルの取得\n",
    "    ffco2_date = datetime.strptime(f\"{year}-01\", \"%Y-%m\")\n",
    "    _ffco2_tile = get_valid_tile_url(ffco2_date, items_ffco2, asset_ffco2, rescale_ffco2, color_map)\n",
    "    \n",
    "    # landcarbonタイルの取得\n",
    "    landcarbon_date = datetime.strptime(f\"{year}-01-01\", \"%Y-%m-%d\")\n",
    "    _landcarbon_tile = get_valid_tile_url(landcarbon_date, items_landcarbon, asset_landcarbon, rescale_landcarbon, color_map)\n",
    "    \n",
    "    # 都市名に基づいて緯度経度を取得\n",
    "    lat, lng = search_location(city)\n",
    "\n",
    "    # FoliumのDualMapを作成\n",
    "    map_ = folium.plugins.DualMap(location=(lat, lng), zoom_start=6)\n",
    "    \n",
    "    # カラーマップの作成\n",
    "    colormap = LinearColormap(\n",
    "        colors=['#310597', '#4C02A1', '#6600A7', '#7E03A8', '#9511A1', '#AA2395', '#BC3587', '#CC4778', '#DA5A6A', '#E66C5C', '#F0804E', '#F89540','#FDAC33', '#FDC527', '#F8DF25'],\n",
    "        vmin=0, vmax=1500\n",
    "    )\n",
    "    colormap.caption = 'ppm-m'\n",
    "    \n",
    "    color = colormap((rescale_ch4plume['max'] - rescale_ch4plume['min']) / 2)\n",
    "\n",
    "    # items_ch4plumeに基づいてランダムに15個のキーを取得\n",
    "    random_keys = random.sample(list(items_ch4plume.keys()), min(15, len(items_ch4plume)))\n",
    "    \n",
    "    for key in random_keys:\n",
    "        methane_plume_tile = requests.get(\n",
    "            f\"{RASTER_API_URL}/collections/{items_ch4plume[key]['collection']}/items/{items_ch4plume[key]['id']}/tilejson.json?\"\n",
    "            f\"&assets={assert_ch4plume}\"\n",
    "            f\"&color_formula=gamma+r+1.05&colormap_name={color_map}\"\n",
    "            f\"&rescale={rescale_ch4plume['min']},{rescale_ch4plume['max']}\", \n",
    "        ).json()\n",
    "        \n",
    "        # マーカーの作成とDualMapの両方に追加\n",
    "        for map_instance in [map_.m1, map_.m2]:\n",
    "            folium.Marker(\n",
    "                location=[methane_plume_tile[\"center\"][1], methane_plume_tile[\"center\"][0]],\n",
    "                popup=items_ch4plume[key][\"id\"],\n",
    "                icon=folium.Icon(color=color),\n",
    "            ).add_to(map_instance)\n",
    "    \n",
    "    # FFCO2タイルがあればレイヤーとして追加\n",
    "    if _ffco2_tile:\n",
    "        map_layer_ffco2 = TileLayer(\n",
    "            tiles=_ffco2_tile[\"tiles\"][0],\n",
    "            attr=\"GHG\",\n",
    "            name=f'{year} Total CO2 Fossil Fuel Emissions',\n",
    "            overlay=True,\n",
    "            opacity=0.8,\n",
    "        )\n",
    "        map_layer_ffco2.add_to(map_.m1)\n",
    "    \n",
    "    # landcarbonタイルがあればレイヤーとして追加\n",
    "    if _landcarbon_tile:\n",
    "        map_layer_landcarbon = TileLayer(\n",
    "            tiles=_landcarbon_tile[\"tiles\"][0],\n",
    "            attr=\"GHG\",\n",
    "            name=f'{year} RH Level',\n",
    "            overlay=True,\n",
    "            opacity=0.8,\n",
    "        )\n",
    "        map_layer_landcarbon.add_to(map_.m2)\n",
    "\n",
    "    return map_._repr_html_()"
   ]
  },
  {
   "cell_type": "code",
   "execution_count": 81,
   "metadata": {},
   "outputs": [
    {
     "name": "stderr",
     "output_type": "stream",
     "text": [
      "/var/folders/gc/pl4_8nd9097bt5tjqkgdgdcw0000gn/T/ipykernel_16139/516941550.py:93: UserWarning: color argument of Icon should be one of: {'purple', 'black', 'beige', 'lightblue', 'darkblue', 'orange', 'gray', 'lightred', 'cadetblue', 'blue', 'pink', 'lightgray', 'darkpurple', 'darkred', 'lightgreen', 'white', 'darkgreen', 'red', 'green'}.\n",
      "  icon=folium.Icon(color=color),\n",
      "/var/folders/gc/pl4_8nd9097bt5tjqkgdgdcw0000gn/T/ipykernel_16139/2575265797.py:74: UserWarning: color argument of Icon should be one of: {'purple', 'black', 'beige', 'lightblue', 'darkblue', 'orange', 'gray', 'lightred', 'cadetblue', 'blue', 'pink', 'lightgray', 'darkpurple', 'darkred', 'lightgreen', 'white', 'darkgreen', 'red', 'green'}.\n",
      "  icon=folium.Icon(color=color),\n"
     ]
    },
    {
     "data": {
      "text/plain": [
       "'<div style=\"width:100%;\"><div style=\"position:relative;width:100%;height:0;padding-bottom:60%;\"><span style=\"color:#565656\">Make this Notebook Trusted to load map: File -> Trust Notebook</span><iframe srcdoc=\"&lt;!DOCTYPE html&gt;\\n&lt;html&gt;\\n&lt;head&gt;\\n    \\n    &lt;meta http-equiv=&quot;content-type&quot; content=&quot;text/html; charset=UTF-8&quot; /&gt;\\n    \\n        &lt;script&gt;\\n            L_NO_TOUCH = false;\\n            L_DISABLE_3D = false;\\n        &lt;/script&gt;\\n    \\n    &lt;style&gt;html, body {width: 100%;height: 100%;margin: 0;padding: 0;}&lt;/style&gt;\\n    &lt;style&gt;#map {position:absolute;top:0;bottom:0;right:0;left:0;}&lt;/style&gt;\\n    &lt;script src=&quot;https://cdn.jsdelivr.net/npm/leaflet@1.9.3/dist/leaflet.js&quot;&gt;&lt;/script&gt;\\n    &lt;script src=&quot;https://code.jquery.com/jquery-3.7.1.min.js&quot;&gt;&lt;/script&gt;\\n    &lt;script src=&quot;https://cdn.jsdelivr.net/npm/bootstrap@5.2.2/dist/js/bootstrap.bundle.min.js&quot;&gt;&lt;/script&gt;\\n    &lt;script src=&quot;https://cdnjs.cloudflare.com/ajax/libs/Leaflet.awesome-markers/2.0.2/leaflet.awesome-markers.js&quot;&gt;&lt;/script&gt;\\n    &lt;link rel=&quot;stylesheet&quot; href=&quot;https://cdn.jsdelivr.net/npm/leaflet@1.9.3/dist/leaflet.css&quot;/&gt;\\n    &lt;link rel=&quot;stylesheet&quot; href=&quot;https://cdn.jsdelivr.net/npm/bootstrap@5.2.2/dist/css/bootstrap.min.css&quot;/&gt;\\n    &lt;link rel=&quot;stylesheet&quot; href=&quot;https://netdna.bootstrapcdn.com/bootstrap/3.0.0/css/bootstrap-glyphicons.css&quot;/&gt;\\n    &lt;link rel=&quot;stylesheet&quot; href=&quot;https://cdn.jsdelivr.net/npm/@fortawesome/fontawesome-free@6.2.0/css/all.min.css&quot;/&gt;\\n    &lt;link rel=&quot;stylesheet&quot; href=&quot;https://cdnjs.cloudflare.com/ajax/libs/Leaflet.awesome-markers/2.0.2/leaflet.awesome-markers.css&quot;/&gt;\\n    &lt;link rel=&quot;stylesheet&quot; href=&quot;https://cdn.jsdelivr.net/gh/python-visualization/folium/folium/templates/leaflet.awesome.rotate.min.css&quot;/&gt;\\n    \\n            &lt;meta name=&quot;viewport&quot; content=&quot;width=device-width,\\n                initial-scale=1.0, maximum-scale=1.0, user-scalable=no&quot; /&gt;\\n            &lt;style&gt;\\n                #map_566c39b6732816bdc9a21a459370594a {\\n                    position: absolute;\\n                    width: 50.0%;\\n                    height: 100.0%;\\n                    left: 0.0%;\\n                    top: 0.0%;\\n                }\\n                .leaflet-container { font-size: 1rem; }\\n            &lt;/style&gt;\\n        \\n    \\n            &lt;meta name=&quot;viewport&quot; content=&quot;width=device-width,\\n                initial-scale=1.0, maximum-scale=1.0, user-scalable=no&quot; /&gt;\\n            &lt;style&gt;\\n                #map_198ceb5622f94b831ffd85f349dd79e3 {\\n                    position: absolute;\\n                    width: 50.0%;\\n                    height: 100.0%;\\n                    left: 50.0%;\\n                    top: 0.0%;\\n                }\\n                .leaflet-container { font-size: 1rem; }\\n            &lt;/style&gt;\\n        \\n    &lt;script src=&quot;https://cdn.jsdelivr.net/gh/jieter/Leaflet.Sync/L.Map.Sync.min.js&quot;&gt;&lt;/script&gt;\\n&lt;/head&gt;\\n&lt;body&gt;\\n    \\n    \\n            &lt;div class=&quot;folium-map&quot; id=&quot;map_566c39b6732816bdc9a21a459370594a&quot; &gt;&lt;/div&gt;\\n        \\n    \\n            &lt;div class=&quot;folium-map&quot; id=&quot;map_198ceb5622f94b831ffd85f349dd79e3&quot; &gt;&lt;/div&gt;\\n        \\n&lt;/body&gt;\\n&lt;script&gt;\\n    \\n    \\n            var map_566c39b6732816bdc9a21a459370594a = L.map(\\n                &quot;map_566c39b6732816bdc9a21a459370594a&quot;,\\n                {\\n                    center: [35.6821936, 139.762221],\\n                    crs: L.CRS.EPSG3857,\\n                    zoom: 6,\\n                    zoomControl: true,\\n                    preferCanvas: false,\\n                }\\n            );\\n\\n            \\n\\n        \\n    \\n            var tile_layer_0cf735254c2510165e2e3f0fdd0f825d = L.tileLayer(\\n                &quot;https://tile.openstreetmap.org/{z}/{x}/{y}.png&quot;,\\n                {&quot;attribution&quot;: &quot;\\\\u0026copy; \\\\u003ca href=\\\\&quot;https://www.openstreetmap.org/copyright\\\\&quot;\\\\u003eOpenStreetMap\\\\u003c/a\\\\u003e contributors&quot;, &quot;detectRetina&quot;: false, &quot;maxNativeZoom&quot;: 19, &quot;maxZoom&quot;: 19, &quot;minZoom&quot;: 0, &quot;noWrap&quot;: false, &quot;opacity&quot;: 1, &quot;subdomains&quot;: &quot;abc&quot;, &quot;tms&quot;: false}\\n            );\\n        \\n    \\n            tile_layer_0cf735254c2510165e2e3f0fdd0f825d.addTo(map_566c39b6732816bdc9a21a459370594a);\\n        \\n    \\n            var marker_8180b79d6dca5aa02271b4cf01e27139 = L.marker(\\n                [30.04017121686546, 51.56332531125848],\\n                {}\\n            ).addTo(map_566c39b6732816bdc9a21a459370594a);\\n        \\n    \\n            var icon_a083def6b9c0d6ec6979db8a9d3e0afb = L.AwesomeMarkers.icon(\\n                {&quot;extraClasses&quot;: &quot;fa-rotate-0&quot;, &quot;icon&quot;: &quot;info-sign&quot;, &quot;iconColor&quot;: &quot;white&quot;, &quot;markerColor&quot;: &quot;#f8df25ff&quot;, &quot;prefix&quot;: &quot;glyphicon&quot;}\\n            );\\n            marker_8180b79d6dca5aa02271b4cf01e27139.setIcon(icon_a083def6b9c0d6ec6979db8a9d3e0afb);\\n        \\n    \\n        var popup_b37496ff8bdfb276fef62f76fd508ad8 = L.popup({&quot;maxWidth&quot;: &quot;100%&quot;});\\n\\n        \\n            \\n                var html_d5ea4f60cedcd9adceade53e5be3b81a = $(`&lt;div id=&quot;html_d5ea4f60cedcd9adceade53e5be3b81a&quot; style=&quot;width: 100.0%; height: 100.0%;&quot;&gt;EMIT_L2B_CH4PLM_001_20230430T055556_000902&lt;/div&gt;`)[0];\\n                popup_b37496ff8bdfb276fef62f76fd508ad8.setContent(html_d5ea4f60cedcd9adceade53e5be3b81a);\\n            \\n        \\n\\n        marker_8180b79d6dca5aa02271b4cf01e27139.bindPopup(popup_b37496ff8bdfb276fef62f76fd508ad8)\\n        ;\\n\\n        \\n    \\n    \\n            var marker_ffdddadd93b67350d99c5cea3d26403b = L.marker(\\n                [39.45522558233688, 53.635195771158],\\n                {}\\n            ).addTo(map_566c39b6732816bdc9a21a459370594a);\\n        \\n    \\n            var icon_f66a8eba4dc304fcd2ad6e2d0e56c36c = L.AwesomeMarkers.icon(\\n                {&quot;extraClasses&quot;: &quot;fa-rotate-0&quot;, &quot;icon&quot;: &quot;info-sign&quot;, &quot;iconColor&quot;: &quot;white&quot;, &quot;markerColor&quot;: &quot;#f8df25ff&quot;, &quot;prefix&quot;: &quot;glyphicon&quot;}\\n            );\\n            marker_ffdddadd93b67350d99c5cea3d26403b.setIcon(icon_f66a8eba4dc304fcd2ad6e2d0e56c36c);\\n        \\n    \\n        var popup_2f76a27eb0aeac50c22bc986cd4105c9 = L.popup({&quot;maxWidth&quot;: &quot;100%&quot;});\\n\\n        \\n            \\n                var html_e7b1cda8ade6183a02e98e121a84121e = $(`&lt;div id=&quot;html_e7b1cda8ade6183a02e98e121a84121e&quot; style=&quot;width: 100.0%; height: 100.0%;&quot;&gt;EMIT_L2B_CH4PLM_001_20240524T114624_003201&lt;/div&gt;`)[0];\\n                popup_2f76a27eb0aeac50c22bc986cd4105c9.setContent(html_e7b1cda8ade6183a02e98e121a84121e);\\n            \\n        \\n\\n        marker_ffdddadd93b67350d99c5cea3d26403b.bindPopup(popup_2f76a27eb0aeac50c22bc986cd4105c9)\\n        ;\\n\\n        \\n    \\n    \\n            var marker_c109feb9990d3f0a1b2c7c07058b0158 = L.marker(\\n                [32.57104150516206, -104.1598899486477],\\n                {}\\n            ).addTo(map_566c39b6732816bdc9a21a459370594a);\\n        \\n    \\n            var icon_b74eaf73d9fc4d9de62b3ea270cca22a = L.AwesomeMarkers.icon(\\n                {&quot;extraClasses&quot;: &quot;fa-rotate-0&quot;, &quot;icon&quot;: &quot;info-sign&quot;, &quot;iconColor&quot;: &quot;white&quot;, &quot;markerColor&quot;: &quot;#f8df25ff&quot;, &quot;prefix&quot;: &quot;glyphicon&quot;}\\n            );\\n            marker_c109feb9990d3f0a1b2c7c07058b0158.setIcon(icon_b74eaf73d9fc4d9de62b3ea270cca22a);\\n        \\n    \\n        var popup_f15d5a083790bc8ab9a1844c460a9bc2 = L.popup({&quot;maxWidth&quot;: &quot;100%&quot;});\\n\\n        \\n            \\n                var html_b504c6165c10f1d5aabd66be74ac36cc = $(`&lt;div id=&quot;html_b504c6165c10f1d5aabd66be74ac36cc&quot; style=&quot;width: 100.0%; height: 100.0%;&quot;&gt;EMIT_L2B_CH4PLM_001_20231004T174744_001447&lt;/div&gt;`)[0];\\n                popup_f15d5a083790bc8ab9a1844c460a9bc2.setContent(html_b504c6165c10f1d5aabd66be74ac36cc);\\n            \\n        \\n\\n        marker_c109feb9990d3f0a1b2c7c07058b0158.bindPopup(popup_f15d5a083790bc8ab9a1844c460a9bc2)\\n        ;\\n\\n        \\n    \\n    \\n            var marker_88756864123ae94bdb4ac96807dabc5e = L.marker(\\n                [38.523127880016126, 66.03252899803948],\\n                {}\\n            ).addTo(map_566c39b6732816bdc9a21a459370594a);\\n        \\n    \\n            var icon_fecd269ff11c81af9b3c059716d94433 = L.AwesomeMarkers.icon(\\n                {&quot;extraClasses&quot;: &quot;fa-rotate-0&quot;, &quot;icon&quot;: &quot;info-sign&quot;, &quot;iconColor&quot;: &quot;white&quot;, &quot;markerColor&quot;: &quot;#f8df25ff&quot;, &quot;prefix&quot;: &quot;glyphicon&quot;}\\n            );\\n            marker_88756864123ae94bdb4ac96807dabc5e.setIcon(icon_fecd269ff11c81af9b3c059716d94433);\\n        \\n    \\n        var popup_358363a12768d517db4537e399af3738 = L.popup({&quot;maxWidth&quot;: &quot;100%&quot;});\\n\\n        \\n            \\n                var html_2c117a3c18ceadf69681ea0b1349de5d = $(`&lt;div id=&quot;html_2c117a3c18ceadf69681ea0b1349de5d&quot; style=&quot;width: 100.0%; height: 100.0%;&quot;&gt;EMIT_L2B_CH4PLM_001_20230814T101129_001488&lt;/div&gt;`)[0];\\n                popup_358363a12768d517db4537e399af3738.setContent(html_2c117a3c18ceadf69681ea0b1349de5d);\\n            \\n        \\n\\n        marker_88756864123ae94bdb4ac96807dabc5e.bindPopup(popup_358363a12768d517db4537e399af3738)\\n        ;\\n\\n        \\n    \\n    \\n            var marker_3862cc0a07119b016c9cb5c70a642450 = L.marker(\\n                [40.205675390371674, 62.349956836718306],\\n                {}\\n            ).addTo(map_566c39b6732816bdc9a21a459370594a);\\n        \\n    \\n            var icon_c2216290b494a3c4e51663f5e293b4a6 = L.AwesomeMarkers.icon(\\n                {&quot;extraClasses&quot;: &quot;fa-rotate-0&quot;, &quot;icon&quot;: &quot;info-sign&quot;, &quot;iconColor&quot;: &quot;white&quot;, &quot;markerColor&quot;: &quot;#f8df25ff&quot;, &quot;prefix&quot;: &quot;glyphicon&quot;}\\n            );\\n            marker_3862cc0a07119b016c9cb5c70a642450.setIcon(icon_c2216290b494a3c4e51663f5e293b4a6);\\n        \\n    \\n        var popup_7ab1ac654f5107afb05ad6d097abf303 = L.popup({&quot;maxWidth&quot;: &quot;100%&quot;});\\n\\n        \\n            \\n                var html_5b9845d31bb27fb6b2e9ac24c8046fb5 = $(`&lt;div id=&quot;html_5b9845d31bb27fb6b2e9ac24c8046fb5&quot; style=&quot;width: 100.0%; height: 100.0%;&quot;&gt;EMIT_L2B_CH4PLM_001_20230614T102415_000047&lt;/div&gt;`)[0];\\n                popup_7ab1ac654f5107afb05ad6d097abf303.setContent(html_5b9845d31bb27fb6b2e9ac24c8046fb5);\\n            \\n        \\n\\n        marker_3862cc0a07119b016c9cb5c70a642450.bindPopup(popup_7ab1ac654f5107afb05ad6d097abf303)\\n        ;\\n\\n        \\n    \\n    \\n            var marker_63bf9ace05fe57b119ce8d0a693051c8 = L.marker(\\n                [28.799000977998595, 19.803682134802486],\\n                {}\\n            ).addTo(map_566c39b6732816bdc9a21a459370594a);\\n        \\n    \\n            var icon_33cc8141a13a79c6377184835bcb53e6 = L.AwesomeMarkers.icon(\\n                {&quot;extraClasses&quot;: &quot;fa-rotate-0&quot;, &quot;icon&quot;: &quot;info-sign&quot;, &quot;iconColor&quot;: &quot;white&quot;, &quot;markerColor&quot;: &quot;#f8df25ff&quot;, &quot;prefix&quot;: &quot;glyphicon&quot;}\\n            );\\n            marker_63bf9ace05fe57b119ce8d0a693051c8.setIcon(icon_33cc8141a13a79c6377184835bcb53e6);\\n        \\n    \\n        var popup_c5ab0afd2cac5e86c8330da4a985b336 = L.popup({&quot;maxWidth&quot;: &quot;100%&quot;});\\n\\n        \\n            \\n                var html_af4d89b4c6b6adfefc7e3e7eee391fd6 = $(`&lt;div id=&quot;html_af4d89b4c6b6adfefc7e3e7eee391fd6&quot; style=&quot;width: 100.0%; height: 100.0%;&quot;&gt;EMIT_L2B_CH4PLM_001_20230805T090904_000986&lt;/div&gt;`)[0];\\n                popup_c5ab0afd2cac5e86c8330da4a985b336.setContent(html_af4d89b4c6b6adfefc7e3e7eee391fd6);\\n            \\n        \\n\\n        marker_63bf9ace05fe57b119ce8d0a693051c8.bindPopup(popup_c5ab0afd2cac5e86c8330da4a985b336)\\n        ;\\n\\n        \\n    \\n    \\n            var marker_c71832c2989765f76553ed10d557f2ea = L.marker(\\n                [31.23687838907125, 48.99260093272298],\\n                {}\\n            ).addTo(map_566c39b6732816bdc9a21a459370594a);\\n        \\n    \\n            var icon_39777aa1809f75f5729ecc9e8c71ee9a = L.AwesomeMarkers.icon(\\n                {&quot;extraClasses&quot;: &quot;fa-rotate-0&quot;, &quot;icon&quot;: &quot;info-sign&quot;, &quot;iconColor&quot;: &quot;white&quot;, &quot;markerColor&quot;: &quot;#f8df25ff&quot;, &quot;prefix&quot;: &quot;glyphicon&quot;}\\n            );\\n            marker_c71832c2989765f76553ed10d557f2ea.setIcon(icon_39777aa1809f75f5729ecc9e8c71ee9a);\\n        \\n    \\n        var popup_9c715b6bb1324e059f5829ccf2eb1e9a = L.popup({&quot;maxWidth&quot;: &quot;100%&quot;});\\n\\n        \\n            \\n                var html_a642ac2cc096c83ab25962a234d78f8e = $(`&lt;div id=&quot;html_a642ac2cc096c83ab25962a234d78f8e&quot; style=&quot;width: 100.0%; height: 100.0%;&quot;&gt;EMIT_L2B_CH4PLM_001_20230219T094118_000669&lt;/div&gt;`)[0];\\n                popup_9c715b6bb1324e059f5829ccf2eb1e9a.setContent(html_a642ac2cc096c83ab25962a234d78f8e);\\n            \\n        \\n\\n        marker_c71832c2989765f76553ed10d557f2ea.bindPopup(popup_9c715b6bb1324e059f5829ccf2eb1e9a)\\n        ;\\n\\n        \\n    \\n    \\n            var marker_10db19884d53d7b0adb9ade822f05014 = L.marker(\\n                [33.01296100917101, 3.5025458783353534],\\n                {}\\n            ).addTo(map_566c39b6732816bdc9a21a459370594a);\\n        \\n    \\n            var icon_e5c7dcf447daa3bba2be4321d7f77eb1 = L.AwesomeMarkers.icon(\\n                {&quot;extraClasses&quot;: &quot;fa-rotate-0&quot;, &quot;icon&quot;: &quot;info-sign&quot;, &quot;iconColor&quot;: &quot;white&quot;, &quot;markerColor&quot;: &quot;#f8df25ff&quot;, &quot;prefix&quot;: &quot;glyphicon&quot;}\\n            );\\n            marker_10db19884d53d7b0adb9ade822f05014.setIcon(icon_e5c7dcf447daa3bba2be4321d7f77eb1);\\n        \\n    \\n        var popup_7149dc0d640fd3d620dc9f199b610e11 = L.popup({&quot;maxWidth&quot;: &quot;100%&quot;});\\n\\n        \\n            \\n                var html_0a2dd0be8ea0ee0834fe3d67dfee7861 = $(`&lt;div id=&quot;html_0a2dd0be8ea0ee0834fe3d67dfee7861&quot; style=&quot;width: 100.0%; height: 100.0%;&quot;&gt;EMIT_L2B_CH4PLM_001_20231006T100206_001581&lt;/div&gt;`)[0];\\n                popup_7149dc0d640fd3d620dc9f199b610e11.setContent(html_0a2dd0be8ea0ee0834fe3d67dfee7861);\\n            \\n        \\n\\n        marker_10db19884d53d7b0adb9ade822f05014.bindPopup(popup_7149dc0d640fd3d620dc9f199b610e11)\\n        ;\\n\\n        \\n    \\n    \\n            var marker_7aa166f2ccc962a6b88f6ece79c44268 = L.marker(\\n                [28.47664374470618, 19.511418806384306],\\n                {}\\n            ).addTo(map_566c39b6732816bdc9a21a459370594a);\\n        \\n    \\n            var icon_3234cb43e0d6d2473d6b880e9d3d14d9 = L.AwesomeMarkers.icon(\\n                {&quot;extraClasses&quot;: &quot;fa-rotate-0&quot;, &quot;icon&quot;: &quot;info-sign&quot;, &quot;iconColor&quot;: &quot;white&quot;, &quot;markerColor&quot;: &quot;#f8df25ff&quot;, &quot;prefix&quot;: &quot;glyphicon&quot;}\\n            );\\n            marker_7aa166f2ccc962a6b88f6ece79c44268.setIcon(icon_3234cb43e0d6d2473d6b880e9d3d14d9);\\n        \\n    \\n        var popup_b9ae0962e6b90e7651464430bdf12d90 = L.popup({&quot;maxWidth&quot;: &quot;100%&quot;});\\n\\n        \\n            \\n                var html_b23c85bcb0538f2fd08fe8bc0ddf86ff = $(`&lt;div id=&quot;html_b23c85bcb0538f2fd08fe8bc0ddf86ff&quot; style=&quot;width: 100.0%; height: 100.0%;&quot;&gt;EMIT_L2B_CH4PLM_001_20230805T090852_000985&lt;/div&gt;`)[0];\\n                popup_b9ae0962e6b90e7651464430bdf12d90.setContent(html_b23c85bcb0538f2fd08fe8bc0ddf86ff);\\n            \\n        \\n\\n        marker_7aa166f2ccc962a6b88f6ece79c44268.bindPopup(popup_b9ae0962e6b90e7651464430bdf12d90)\\n        ;\\n\\n        \\n    \\n    \\n            var marker_cc166880f09c481e8e1c014f498502af = L.marker(\\n                [41.089514398389575, -108.57528936109537],\\n                {}\\n            ).addTo(map_566c39b6732816bdc9a21a459370594a);\\n        \\n    \\n            var icon_64ff9ac585dd0b2ea77ad5c458039357 = L.AwesomeMarkers.icon(\\n                {&quot;extraClasses&quot;: &quot;fa-rotate-0&quot;, &quot;icon&quot;: &quot;info-sign&quot;, &quot;iconColor&quot;: &quot;white&quot;, &quot;markerColor&quot;: &quot;#f8df25ff&quot;, &quot;prefix&quot;: &quot;glyphicon&quot;}\\n            );\\n            marker_cc166880f09c481e8e1c014f498502af.setIcon(icon_64ff9ac585dd0b2ea77ad5c458039357);\\n        \\n    \\n        var popup_5c68774d4c0472918ffde5ed6eb33908 = L.popup({&quot;maxWidth&quot;: &quot;100%&quot;});\\n\\n        \\n            \\n                var html_0fb59db3a0beebabc3612dcc3b9c25a1 = $(`&lt;div id=&quot;html_0fb59db3a0beebabc3612dcc3b9c25a1&quot; style=&quot;width: 100.0%; height: 100.0%;&quot;&gt;EMIT_L2B_CH4PLM_001_20231009T170025_001638&lt;/div&gt;`)[0];\\n                popup_5c68774d4c0472918ffde5ed6eb33908.setContent(html_0fb59db3a0beebabc3612dcc3b9c25a1);\\n            \\n        \\n\\n        marker_cc166880f09c481e8e1c014f498502af.bindPopup(popup_5c68774d4c0472918ffde5ed6eb33908)\\n        ;\\n\\n        \\n    \\n    \\n            var marker_130e85a7a5eaaa61776ccf45e0210199 = L.marker(\\n                [33.067455377456774, 39.499736200594796],\\n                {}\\n            ).addTo(map_566c39b6732816bdc9a21a459370594a);\\n        \\n    \\n            var icon_df162ecf316a5260175ac9dfea6767d1 = L.AwesomeMarkers.icon(\\n                {&quot;extraClasses&quot;: &quot;fa-rotate-0&quot;, &quot;icon&quot;: &quot;info-sign&quot;, &quot;iconColor&quot;: &quot;white&quot;, &quot;markerColor&quot;: &quot;#f8df25ff&quot;, &quot;prefix&quot;: &quot;glyphicon&quot;}\\n            );\\n            marker_130e85a7a5eaaa61776ccf45e0210199.setIcon(icon_df162ecf316a5260175ac9dfea6767d1);\\n        \\n    \\n        var popup_a78df85987e45eb72af38a35b22a3b99 = L.popup({&quot;maxWidth&quot;: &quot;100%&quot;});\\n\\n        \\n            \\n                var html_0c77e09c05551e618df1ebaad0ab3d07 = $(`&lt;div id=&quot;html_0c77e09c05551e618df1ebaad0ab3d07&quot; style=&quot;width: 100.0%; height: 100.0%;&quot;&gt;EMIT_L2B_CH4PLM_001_20240719T135301_003340&lt;/div&gt;`)[0];\\n                popup_a78df85987e45eb72af38a35b22a3b99.setContent(html_0c77e09c05551e618df1ebaad0ab3d07);\\n            \\n        \\n\\n        marker_130e85a7a5eaaa61776ccf45e0210199.bindPopup(popup_a78df85987e45eb72af38a35b22a3b99)\\n        ;\\n\\n        \\n    \\n    \\n            var marker_d15970440f95669bd84e962a2b4ee500 = L.marker(\\n                [-39.21403738653787, -64.1764772537232],\\n                {}\\n            ).addTo(map_566c39b6732816bdc9a21a459370594a);\\n        \\n    \\n            var icon_32b075550cd4fdea1cb1656992e73671 = L.AwesomeMarkers.icon(\\n                {&quot;extraClasses&quot;: &quot;fa-rotate-0&quot;, &quot;icon&quot;: &quot;info-sign&quot;, &quot;iconColor&quot;: &quot;white&quot;, &quot;markerColor&quot;: &quot;#f8df25ff&quot;, &quot;prefix&quot;: &quot;glyphicon&quot;}\\n            );\\n            marker_d15970440f95669bd84e962a2b4ee500.setIcon(icon_32b075550cd4fdea1cb1656992e73671);\\n        \\n    \\n        var popup_18267b047126d07283975fdb81ffc1a4 = L.popup({&quot;maxWidth&quot;: &quot;100%&quot;});\\n\\n        \\n            \\n                var html_282d134841ab8b3945c72710ce54f1d4 = $(`&lt;div id=&quot;html_282d134841ab8b3945c72710ce54f1d4&quot; style=&quot;width: 100.0%; height: 100.0%;&quot;&gt;EMIT_L2B_CH4PLM_001_20230908T141043_000225&lt;/div&gt;`)[0];\\n                popup_18267b047126d07283975fdb81ffc1a4.setContent(html_282d134841ab8b3945c72710ce54f1d4);\\n            \\n        \\n\\n        marker_d15970440f95669bd84e962a2b4ee500.bindPopup(popup_18267b047126d07283975fdb81ffc1a4)\\n        ;\\n\\n        \\n    \\n    \\n            var marker_6aa249263848d7fed38e93bc0ef3ba82 = L.marker(\\n                [32.54772550679102, -101.28253307990742],\\n                {}\\n            ).addTo(map_566c39b6732816bdc9a21a459370594a);\\n        \\n    \\n            var icon_cbbe2dcee3309be8f43716ff542b90c2 = L.AwesomeMarkers.icon(\\n                {&quot;extraClasses&quot;: &quot;fa-rotate-0&quot;, &quot;icon&quot;: &quot;info-sign&quot;, &quot;iconColor&quot;: &quot;white&quot;, &quot;markerColor&quot;: &quot;#f8df25ff&quot;, &quot;prefix&quot;: &quot;glyphicon&quot;}\\n            );\\n            marker_6aa249263848d7fed38e93bc0ef3ba82.setIcon(icon_cbbe2dcee3309be8f43716ff542b90c2);\\n        \\n    \\n        var popup_0174102d521d40448a83f5c09d3cfabf = L.popup({&quot;maxWidth&quot;: &quot;100%&quot;});\\n\\n        \\n            \\n                var html_c4374396c30b805e52ecefca354012b1 = $(`&lt;div id=&quot;html_c4374396c30b805e52ecefca354012b1&quot; style=&quot;width: 100.0%; height: 100.0%;&quot;&gt;EMIT_L2B_CH4PLM_001_20231217T201338_002751&lt;/div&gt;`)[0];\\n                popup_0174102d521d40448a83f5c09d3cfabf.setContent(html_c4374396c30b805e52ecefca354012b1);\\n            \\n        \\n\\n        marker_6aa249263848d7fed38e93bc0ef3ba82.bindPopup(popup_0174102d521d40448a83f5c09d3cfabf)\\n        ;\\n\\n        \\n    \\n    \\n            var marker_b205d17b4c466cfd4ba302e6f7d12f82 = L.marker(\\n                [36.25551148030404, 59.954644678485835],\\n                {}\\n            ).addTo(map_566c39b6732816bdc9a21a459370594a);\\n        \\n    \\n            var icon_4925b4dd7a30d5546ec9c4a38cff086d = L.AwesomeMarkers.icon(\\n                {&quot;extraClasses&quot;: &quot;fa-rotate-0&quot;, &quot;icon&quot;: &quot;info-sign&quot;, &quot;iconColor&quot;: &quot;white&quot;, &quot;markerColor&quot;: &quot;#f8df25ff&quot;, &quot;prefix&quot;: &quot;glyphicon&quot;}\\n            );\\n            marker_b205d17b4c466cfd4ba302e6f7d12f82.setIcon(icon_4925b4dd7a30d5546ec9c4a38cff086d);\\n        \\n    \\n        var popup_4f2a9772317a4cc33458fb0c764f0af0 = L.popup({&quot;maxWidth&quot;: &quot;100%&quot;});\\n\\n        \\n            \\n                var html_fe54cbd3f64ab3811302b5efbd093f28 = $(`&lt;div id=&quot;html_fe54cbd3f64ab3811302b5efbd093f28&quot; style=&quot;width: 100.0%; height: 100.0%;&quot;&gt;EMIT_L2B_CH4PLM_001_20230421T082329_000835&lt;/div&gt;`)[0];\\n                popup_4f2a9772317a4cc33458fb0c764f0af0.setContent(html_fe54cbd3f64ab3811302b5efbd093f28);\\n            \\n        \\n\\n        marker_b205d17b4c466cfd4ba302e6f7d12f82.bindPopup(popup_4f2a9772317a4cc33458fb0c764f0af0)\\n        ;\\n\\n        \\n    \\n    \\n            var marker_183e8a94b2cab41a31f569fef1cff8f2 = L.marker(\\n                [36.34931770630838, 111.99595304261082],\\n                {}\\n            ).addTo(map_566c39b6732816bdc9a21a459370594a);\\n        \\n    \\n            var icon_34f557bac9e017f5686975ce399663b2 = L.AwesomeMarkers.icon(\\n                {&quot;extraClasses&quot;: &quot;fa-rotate-0&quot;, &quot;icon&quot;: &quot;info-sign&quot;, &quot;iconColor&quot;: &quot;white&quot;, &quot;markerColor&quot;: &quot;#f8df25ff&quot;, &quot;prefix&quot;: &quot;glyphicon&quot;}\\n            );\\n            marker_183e8a94b2cab41a31f569fef1cff8f2.setIcon(icon_34f557bac9e017f5686975ce399663b2);\\n        \\n    \\n        var popup_bd9a9c707fec4193806716908fbbefde = L.popup({&quot;maxWidth&quot;: &quot;100%&quot;});\\n\\n        \\n            \\n                var html_aa7d5a54126d66c963948b12e3d8d4a1 = $(`&lt;div id=&quot;html_aa7d5a54126d66c963948b12e3d8d4a1&quot; style=&quot;width: 100.0%; height: 100.0%;&quot;&gt;EMIT_L2B_CH4PLM_001_20240225T021349_002867&lt;/div&gt;`)[0];\\n                popup_bd9a9c707fec4193806716908fbbefde.setContent(html_aa7d5a54126d66c963948b12e3d8d4a1);\\n            \\n        \\n\\n        marker_183e8a94b2cab41a31f569fef1cff8f2.bindPopup(popup_bd9a9c707fec4193806716908fbbefde)\\n        ;\\n\\n        \\n    \\n    \\n            var tile_layer_82727079959e55dec43ce05b618de67f = L.tileLayer(\\n                &quot;https://earth.gov/ghgcenter/api/raster/collections/odiac-ffco2-monthgrid-v2023/items/odiac-ffco2-monthgrid-v2023-odiac2023_1km_excl_intl_200301/tiles/WebMercatorQuad/{z}/{x}/{y}@1x?assets=co2-emissions\\\\u0026color_formula=gamma+r+1.05\\\\u0026colormap_name=spectral_r\\\\u0026rescale=-675.1028442382812%2C31415.447265625&quot;,\\n                {&quot;attribution&quot;: &quot;GHG&quot;, &quot;detectRetina&quot;: false, &quot;maxZoom&quot;: 18, &quot;minZoom&quot;: 0, &quot;noWrap&quot;: false, &quot;opacity&quot;: 0.8, &quot;subdomains&quot;: &quot;abc&quot;, &quot;tms&quot;: false}\\n            );\\n        \\n    \\n            tile_layer_82727079959e55dec43ce05b618de67f.addTo(map_566c39b6732816bdc9a21a459370594a);\\n        \\n    \\n            var map_198ceb5622f94b831ffd85f349dd79e3 = L.map(\\n                &quot;map_198ceb5622f94b831ffd85f349dd79e3&quot;,\\n                {\\n                    center: [35.6821936, 139.762221],\\n                    crs: L.CRS.EPSG3857,\\n                    zoom: 6,\\n                    zoomControl: true,\\n                    preferCanvas: false,\\n                }\\n            );\\n\\n            \\n\\n        \\n    \\n            var tile_layer_8a2d9a1995383be7d68db93ec052bf6c = L.tileLayer(\\n                &quot;https://tile.openstreetmap.org/{z}/{x}/{y}.png&quot;,\\n                {&quot;attribution&quot;: &quot;\\\\u0026copy; \\\\u003ca href=\\\\&quot;https://www.openstreetmap.org/copyright\\\\&quot;\\\\u003eOpenStreetMap\\\\u003c/a\\\\u003e contributors&quot;, &quot;detectRetina&quot;: false, &quot;maxNativeZoom&quot;: 19, &quot;maxZoom&quot;: 19, &quot;minZoom&quot;: 0, &quot;noWrap&quot;: false, &quot;opacity&quot;: 1, &quot;subdomains&quot;: &quot;abc&quot;, &quot;tms&quot;: false}\\n            );\\n        \\n    \\n            tile_layer_8a2d9a1995383be7d68db93ec052bf6c.addTo(map_198ceb5622f94b831ffd85f349dd79e3);\\n        \\n    \\n            var marker_c247bbf2024f44f4f990ead29b2ded39 = L.marker(\\n                [30.04017121686546, 51.56332531125848],\\n                {}\\n            ).addTo(map_198ceb5622f94b831ffd85f349dd79e3);\\n        \\n    \\n            var icon_d36c2cd8f5648eb20a72e65ef06f309e = L.AwesomeMarkers.icon(\\n                {&quot;extraClasses&quot;: &quot;fa-rotate-0&quot;, &quot;icon&quot;: &quot;info-sign&quot;, &quot;iconColor&quot;: &quot;white&quot;, &quot;markerColor&quot;: &quot;#f8df25ff&quot;, &quot;prefix&quot;: &quot;glyphicon&quot;}\\n            );\\n            marker_c247bbf2024f44f4f990ead29b2ded39.setIcon(icon_d36c2cd8f5648eb20a72e65ef06f309e);\\n        \\n    \\n        var popup_7ff7b07fb8ab4fbaf8d7af1314525a9e = L.popup({&quot;maxWidth&quot;: &quot;100%&quot;});\\n\\n        \\n            \\n                var html_ddb26f00b51231a1d5f91edbd935c612 = $(`&lt;div id=&quot;html_ddb26f00b51231a1d5f91edbd935c612&quot; style=&quot;width: 100.0%; height: 100.0%;&quot;&gt;EMIT_L2B_CH4PLM_001_20230430T055556_000902&lt;/div&gt;`)[0];\\n                popup_7ff7b07fb8ab4fbaf8d7af1314525a9e.setContent(html_ddb26f00b51231a1d5f91edbd935c612);\\n            \\n        \\n\\n        marker_c247bbf2024f44f4f990ead29b2ded39.bindPopup(popup_7ff7b07fb8ab4fbaf8d7af1314525a9e)\\n        ;\\n\\n        \\n    \\n    \\n            var marker_f9e2cbfadb9a3457cb7b9841ba3e341c = L.marker(\\n                [39.45522558233688, 53.635195771158],\\n                {}\\n            ).addTo(map_198ceb5622f94b831ffd85f349dd79e3);\\n        \\n    \\n            var icon_3ec9bd7b0ef247cdeca457a8c8f0c876 = L.AwesomeMarkers.icon(\\n                {&quot;extraClasses&quot;: &quot;fa-rotate-0&quot;, &quot;icon&quot;: &quot;info-sign&quot;, &quot;iconColor&quot;: &quot;white&quot;, &quot;markerColor&quot;: &quot;#f8df25ff&quot;, &quot;prefix&quot;: &quot;glyphicon&quot;}\\n            );\\n            marker_f9e2cbfadb9a3457cb7b9841ba3e341c.setIcon(icon_3ec9bd7b0ef247cdeca457a8c8f0c876);\\n        \\n    \\n        var popup_9cf37b19c1989115e3249dd406cb84a9 = L.popup({&quot;maxWidth&quot;: &quot;100%&quot;});\\n\\n        \\n            \\n                var html_f3eaac4148289c29628e471f81348f18 = $(`&lt;div id=&quot;html_f3eaac4148289c29628e471f81348f18&quot; style=&quot;width: 100.0%; height: 100.0%;&quot;&gt;EMIT_L2B_CH4PLM_001_20240524T114624_003201&lt;/div&gt;`)[0];\\n                popup_9cf37b19c1989115e3249dd406cb84a9.setContent(html_f3eaac4148289c29628e471f81348f18);\\n            \\n        \\n\\n        marker_f9e2cbfadb9a3457cb7b9841ba3e341c.bindPopup(popup_9cf37b19c1989115e3249dd406cb84a9)\\n        ;\\n\\n        \\n    \\n    \\n            var marker_49bc43afd1eb2e7478142e83f8797f80 = L.marker(\\n                [32.57104150516206, -104.1598899486477],\\n                {}\\n            ).addTo(map_198ceb5622f94b831ffd85f349dd79e3);\\n        \\n    \\n            var icon_3ab57cbe2b5c67d209bd80c792cff0e7 = L.AwesomeMarkers.icon(\\n                {&quot;extraClasses&quot;: &quot;fa-rotate-0&quot;, &quot;icon&quot;: &quot;info-sign&quot;, &quot;iconColor&quot;: &quot;white&quot;, &quot;markerColor&quot;: &quot;#f8df25ff&quot;, &quot;prefix&quot;: &quot;glyphicon&quot;}\\n            );\\n            marker_49bc43afd1eb2e7478142e83f8797f80.setIcon(icon_3ab57cbe2b5c67d209bd80c792cff0e7);\\n        \\n    \\n        var popup_ac4750106a1f2e938cb227f81cb1fb45 = L.popup({&quot;maxWidth&quot;: &quot;100%&quot;});\\n\\n        \\n            \\n                var html_34fa6d585ed82042207e653b7e2079f2 = $(`&lt;div id=&quot;html_34fa6d585ed82042207e653b7e2079f2&quot; style=&quot;width: 100.0%; height: 100.0%;&quot;&gt;EMIT_L2B_CH4PLM_001_20231004T174744_001447&lt;/div&gt;`)[0];\\n                popup_ac4750106a1f2e938cb227f81cb1fb45.setContent(html_34fa6d585ed82042207e653b7e2079f2);\\n            \\n        \\n\\n        marker_49bc43afd1eb2e7478142e83f8797f80.bindPopup(popup_ac4750106a1f2e938cb227f81cb1fb45)\\n        ;\\n\\n        \\n    \\n    \\n            var marker_ab11250aec2fc0d9a73f8156d066242c = L.marker(\\n                [38.523127880016126, 66.03252899803948],\\n                {}\\n            ).addTo(map_198ceb5622f94b831ffd85f349dd79e3);\\n        \\n    \\n            var icon_f3d28b8295a73a7ddc96d5cdb6d65520 = L.AwesomeMarkers.icon(\\n                {&quot;extraClasses&quot;: &quot;fa-rotate-0&quot;, &quot;icon&quot;: &quot;info-sign&quot;, &quot;iconColor&quot;: &quot;white&quot;, &quot;markerColor&quot;: &quot;#f8df25ff&quot;, &quot;prefix&quot;: &quot;glyphicon&quot;}\\n            );\\n            marker_ab11250aec2fc0d9a73f8156d066242c.setIcon(icon_f3d28b8295a73a7ddc96d5cdb6d65520);\\n        \\n    \\n        var popup_ae148beca5b018dca40a5a497364d887 = L.popup({&quot;maxWidth&quot;: &quot;100%&quot;});\\n\\n        \\n            \\n                var html_f6b5f1f7f204da1e7d6941ff561c32ba = $(`&lt;div id=&quot;html_f6b5f1f7f204da1e7d6941ff561c32ba&quot; style=&quot;width: 100.0%; height: 100.0%;&quot;&gt;EMIT_L2B_CH4PLM_001_20230814T101129_001488&lt;/div&gt;`)[0];\\n                popup_ae148beca5b018dca40a5a497364d887.setContent(html_f6b5f1f7f204da1e7d6941ff561c32ba);\\n            \\n        \\n\\n        marker_ab11250aec2fc0d9a73f8156d066242c.bindPopup(popup_ae148beca5b018dca40a5a497364d887)\\n        ;\\n\\n        \\n    \\n    \\n            var marker_036db7c94401ad7315d1471f62a3b00d = L.marker(\\n                [40.205675390371674, 62.349956836718306],\\n                {}\\n            ).addTo(map_198ceb5622f94b831ffd85f349dd79e3);\\n        \\n    \\n            var icon_fa63c18ea15056cb17c708d4d2d35b3d = L.AwesomeMarkers.icon(\\n                {&quot;extraClasses&quot;: &quot;fa-rotate-0&quot;, &quot;icon&quot;: &quot;info-sign&quot;, &quot;iconColor&quot;: &quot;white&quot;, &quot;markerColor&quot;: &quot;#f8df25ff&quot;, &quot;prefix&quot;: &quot;glyphicon&quot;}\\n            );\\n            marker_036db7c94401ad7315d1471f62a3b00d.setIcon(icon_fa63c18ea15056cb17c708d4d2d35b3d);\\n        \\n    \\n        var popup_2df009502b5413af50fb613ac4853449 = L.popup({&quot;maxWidth&quot;: &quot;100%&quot;});\\n\\n        \\n            \\n                var html_d45adb525e29614fbe950a79968d5616 = $(`&lt;div id=&quot;html_d45adb525e29614fbe950a79968d5616&quot; style=&quot;width: 100.0%; height: 100.0%;&quot;&gt;EMIT_L2B_CH4PLM_001_20230614T102415_000047&lt;/div&gt;`)[0];\\n                popup_2df009502b5413af50fb613ac4853449.setContent(html_d45adb525e29614fbe950a79968d5616);\\n            \\n        \\n\\n        marker_036db7c94401ad7315d1471f62a3b00d.bindPopup(popup_2df009502b5413af50fb613ac4853449)\\n        ;\\n\\n        \\n    \\n    \\n            var marker_b4dd7d949c9f07132f1959d35a940347 = L.marker(\\n                [28.799000977998595, 19.803682134802486],\\n                {}\\n            ).addTo(map_198ceb5622f94b831ffd85f349dd79e3);\\n        \\n    \\n            var icon_ae0aee4d3a7fb6ec4334270aed914b3d = L.AwesomeMarkers.icon(\\n                {&quot;extraClasses&quot;: &quot;fa-rotate-0&quot;, &quot;icon&quot;: &quot;info-sign&quot;, &quot;iconColor&quot;: &quot;white&quot;, &quot;markerColor&quot;: &quot;#f8df25ff&quot;, &quot;prefix&quot;: &quot;glyphicon&quot;}\\n            );\\n            marker_b4dd7d949c9f07132f1959d35a940347.setIcon(icon_ae0aee4d3a7fb6ec4334270aed914b3d);\\n        \\n    \\n        var popup_cc5a2c19d1f002d74250489f7eaa5732 = L.popup({&quot;maxWidth&quot;: &quot;100%&quot;});\\n\\n        \\n            \\n                var html_b033adeb7c5c5a9fd4fed4483c3f0562 = $(`&lt;div id=&quot;html_b033adeb7c5c5a9fd4fed4483c3f0562&quot; style=&quot;width: 100.0%; height: 100.0%;&quot;&gt;EMIT_L2B_CH4PLM_001_20230805T090904_000986&lt;/div&gt;`)[0];\\n                popup_cc5a2c19d1f002d74250489f7eaa5732.setContent(html_b033adeb7c5c5a9fd4fed4483c3f0562);\\n            \\n        \\n\\n        marker_b4dd7d949c9f07132f1959d35a940347.bindPopup(popup_cc5a2c19d1f002d74250489f7eaa5732)\\n        ;\\n\\n        \\n    \\n    \\n            var marker_72ac3be23ac32a5353935390ac462d75 = L.marker(\\n                [31.23687838907125, 48.99260093272298],\\n                {}\\n            ).addTo(map_198ceb5622f94b831ffd85f349dd79e3);\\n        \\n    \\n            var icon_b4961b1f2c9cc17fc0aa23b8edc52d06 = L.AwesomeMarkers.icon(\\n                {&quot;extraClasses&quot;: &quot;fa-rotate-0&quot;, &quot;icon&quot;: &quot;info-sign&quot;, &quot;iconColor&quot;: &quot;white&quot;, &quot;markerColor&quot;: &quot;#f8df25ff&quot;, &quot;prefix&quot;: &quot;glyphicon&quot;}\\n            );\\n            marker_72ac3be23ac32a5353935390ac462d75.setIcon(icon_b4961b1f2c9cc17fc0aa23b8edc52d06);\\n        \\n    \\n        var popup_2c2ee51f90b490e7c4bb5df641291cf5 = L.popup({&quot;maxWidth&quot;: &quot;100%&quot;});\\n\\n        \\n            \\n                var html_6927d86508d1719eabfda5c0e8b70039 = $(`&lt;div id=&quot;html_6927d86508d1719eabfda5c0e8b70039&quot; style=&quot;width: 100.0%; height: 100.0%;&quot;&gt;EMIT_L2B_CH4PLM_001_20230219T094118_000669&lt;/div&gt;`)[0];\\n                popup_2c2ee51f90b490e7c4bb5df641291cf5.setContent(html_6927d86508d1719eabfda5c0e8b70039);\\n            \\n        \\n\\n        marker_72ac3be23ac32a5353935390ac462d75.bindPopup(popup_2c2ee51f90b490e7c4bb5df641291cf5)\\n        ;\\n\\n        \\n    \\n    \\n            var marker_7fd5fa87b4f604f1ef3d3e105de953b0 = L.marker(\\n                [33.01296100917101, 3.5025458783353534],\\n                {}\\n            ).addTo(map_198ceb5622f94b831ffd85f349dd79e3);\\n        \\n    \\n            var icon_47347153bef516925bd7e5e97db98505 = L.AwesomeMarkers.icon(\\n                {&quot;extraClasses&quot;: &quot;fa-rotate-0&quot;, &quot;icon&quot;: &quot;info-sign&quot;, &quot;iconColor&quot;: &quot;white&quot;, &quot;markerColor&quot;: &quot;#f8df25ff&quot;, &quot;prefix&quot;: &quot;glyphicon&quot;}\\n            );\\n            marker_7fd5fa87b4f604f1ef3d3e105de953b0.setIcon(icon_47347153bef516925bd7e5e97db98505);\\n        \\n    \\n        var popup_059cf63f91e6bbfbc70650e67d753ae4 = L.popup({&quot;maxWidth&quot;: &quot;100%&quot;});\\n\\n        \\n            \\n                var html_4b729cb54aaf607e93a79971e57c274d = $(`&lt;div id=&quot;html_4b729cb54aaf607e93a79971e57c274d&quot; style=&quot;width: 100.0%; height: 100.0%;&quot;&gt;EMIT_L2B_CH4PLM_001_20231006T100206_001581&lt;/div&gt;`)[0];\\n                popup_059cf63f91e6bbfbc70650e67d753ae4.setContent(html_4b729cb54aaf607e93a79971e57c274d);\\n            \\n        \\n\\n        marker_7fd5fa87b4f604f1ef3d3e105de953b0.bindPopup(popup_059cf63f91e6bbfbc70650e67d753ae4)\\n        ;\\n\\n        \\n    \\n    \\n            var marker_a4877239266254e4cb3b87430990c375 = L.marker(\\n                [28.47664374470618, 19.511418806384306],\\n                {}\\n            ).addTo(map_198ceb5622f94b831ffd85f349dd79e3);\\n        \\n    \\n            var icon_67c3390a9fad73d6ff63c85461b67aad = L.AwesomeMarkers.icon(\\n                {&quot;extraClasses&quot;: &quot;fa-rotate-0&quot;, &quot;icon&quot;: &quot;info-sign&quot;, &quot;iconColor&quot;: &quot;white&quot;, &quot;markerColor&quot;: &quot;#f8df25ff&quot;, &quot;prefix&quot;: &quot;glyphicon&quot;}\\n            );\\n            marker_a4877239266254e4cb3b87430990c375.setIcon(icon_67c3390a9fad73d6ff63c85461b67aad);\\n        \\n    \\n        var popup_4ae7d472df1f92cc9ec7edac0f6fd21a = L.popup({&quot;maxWidth&quot;: &quot;100%&quot;});\\n\\n        \\n            \\n                var html_8a1c1252aacdd75839075c101b5ee02e = $(`&lt;div id=&quot;html_8a1c1252aacdd75839075c101b5ee02e&quot; style=&quot;width: 100.0%; height: 100.0%;&quot;&gt;EMIT_L2B_CH4PLM_001_20230805T090852_000985&lt;/div&gt;`)[0];\\n                popup_4ae7d472df1f92cc9ec7edac0f6fd21a.setContent(html_8a1c1252aacdd75839075c101b5ee02e);\\n            \\n        \\n\\n        marker_a4877239266254e4cb3b87430990c375.bindPopup(popup_4ae7d472df1f92cc9ec7edac0f6fd21a)\\n        ;\\n\\n        \\n    \\n    \\n            var marker_0d51416b71d947d8d3c9d4bb71cfd0c0 = L.marker(\\n                [41.089514398389575, -108.57528936109537],\\n                {}\\n            ).addTo(map_198ceb5622f94b831ffd85f349dd79e3);\\n        \\n    \\n            var icon_56405a5c299259dc26f11e397cf2f809 = L.AwesomeMarkers.icon(\\n                {&quot;extraClasses&quot;: &quot;fa-rotate-0&quot;, &quot;icon&quot;: &quot;info-sign&quot;, &quot;iconColor&quot;: &quot;white&quot;, &quot;markerColor&quot;: &quot;#f8df25ff&quot;, &quot;prefix&quot;: &quot;glyphicon&quot;}\\n            );\\n            marker_0d51416b71d947d8d3c9d4bb71cfd0c0.setIcon(icon_56405a5c299259dc26f11e397cf2f809);\\n        \\n    \\n        var popup_476eb265dbbc22bc524797db5d1e8a03 = L.popup({&quot;maxWidth&quot;: &quot;100%&quot;});\\n\\n        \\n            \\n                var html_78990028afdf4a6414826ce3c051a2c5 = $(`&lt;div id=&quot;html_78990028afdf4a6414826ce3c051a2c5&quot; style=&quot;width: 100.0%; height: 100.0%;&quot;&gt;EMIT_L2B_CH4PLM_001_20231009T170025_001638&lt;/div&gt;`)[0];\\n                popup_476eb265dbbc22bc524797db5d1e8a03.setContent(html_78990028afdf4a6414826ce3c051a2c5);\\n            \\n        \\n\\n        marker_0d51416b71d947d8d3c9d4bb71cfd0c0.bindPopup(popup_476eb265dbbc22bc524797db5d1e8a03)\\n        ;\\n\\n        \\n    \\n    \\n            var marker_bf93b9fcea5f227e6c1816e763bdd443 = L.marker(\\n                [33.067455377456774, 39.499736200594796],\\n                {}\\n            ).addTo(map_198ceb5622f94b831ffd85f349dd79e3);\\n        \\n    \\n            var icon_186de0b4edd894e8c191f46660751f3d = L.AwesomeMarkers.icon(\\n                {&quot;extraClasses&quot;: &quot;fa-rotate-0&quot;, &quot;icon&quot;: &quot;info-sign&quot;, &quot;iconColor&quot;: &quot;white&quot;, &quot;markerColor&quot;: &quot;#f8df25ff&quot;, &quot;prefix&quot;: &quot;glyphicon&quot;}\\n            );\\n            marker_bf93b9fcea5f227e6c1816e763bdd443.setIcon(icon_186de0b4edd894e8c191f46660751f3d);\\n        \\n    \\n        var popup_57c6d326a7ecf272c2f72ec70277af33 = L.popup({&quot;maxWidth&quot;: &quot;100%&quot;});\\n\\n        \\n            \\n                var html_bd810f474973afae526f153d4933c805 = $(`&lt;div id=&quot;html_bd810f474973afae526f153d4933c805&quot; style=&quot;width: 100.0%; height: 100.0%;&quot;&gt;EMIT_L2B_CH4PLM_001_20240719T135301_003340&lt;/div&gt;`)[0];\\n                popup_57c6d326a7ecf272c2f72ec70277af33.setContent(html_bd810f474973afae526f153d4933c805);\\n            \\n        \\n\\n        marker_bf93b9fcea5f227e6c1816e763bdd443.bindPopup(popup_57c6d326a7ecf272c2f72ec70277af33)\\n        ;\\n\\n        \\n    \\n    \\n            var marker_942fee7a7abed7aa29a57aa095ddbeb9 = L.marker(\\n                [-39.21403738653787, -64.1764772537232],\\n                {}\\n            ).addTo(map_198ceb5622f94b831ffd85f349dd79e3);\\n        \\n    \\n            var icon_4fa384590cb24111fda93d5028dbbb1f = L.AwesomeMarkers.icon(\\n                {&quot;extraClasses&quot;: &quot;fa-rotate-0&quot;, &quot;icon&quot;: &quot;info-sign&quot;, &quot;iconColor&quot;: &quot;white&quot;, &quot;markerColor&quot;: &quot;#f8df25ff&quot;, &quot;prefix&quot;: &quot;glyphicon&quot;}\\n            );\\n            marker_942fee7a7abed7aa29a57aa095ddbeb9.setIcon(icon_4fa384590cb24111fda93d5028dbbb1f);\\n        \\n    \\n        var popup_a20974908e1b5463e9e032fefde337ce = L.popup({&quot;maxWidth&quot;: &quot;100%&quot;});\\n\\n        \\n            \\n                var html_5cba04c3bd8903d928c7729cdedb006d = $(`&lt;div id=&quot;html_5cba04c3bd8903d928c7729cdedb006d&quot; style=&quot;width: 100.0%; height: 100.0%;&quot;&gt;EMIT_L2B_CH4PLM_001_20230908T141043_000225&lt;/div&gt;`)[0];\\n                popup_a20974908e1b5463e9e032fefde337ce.setContent(html_5cba04c3bd8903d928c7729cdedb006d);\\n            \\n        \\n\\n        marker_942fee7a7abed7aa29a57aa095ddbeb9.bindPopup(popup_a20974908e1b5463e9e032fefde337ce)\\n        ;\\n\\n        \\n    \\n    \\n            var marker_32d9d510498446494f0d5d0d7b8f3cff = L.marker(\\n                [32.54772550679102, -101.28253307990742],\\n                {}\\n            ).addTo(map_198ceb5622f94b831ffd85f349dd79e3);\\n        \\n    \\n            var icon_eb162f35ee33b314af03db461673d6c6 = L.AwesomeMarkers.icon(\\n                {&quot;extraClasses&quot;: &quot;fa-rotate-0&quot;, &quot;icon&quot;: &quot;info-sign&quot;, &quot;iconColor&quot;: &quot;white&quot;, &quot;markerColor&quot;: &quot;#f8df25ff&quot;, &quot;prefix&quot;: &quot;glyphicon&quot;}\\n            );\\n            marker_32d9d510498446494f0d5d0d7b8f3cff.setIcon(icon_eb162f35ee33b314af03db461673d6c6);\\n        \\n    \\n        var popup_4b39bbd2757e12c79c38d8e41c996e8a = L.popup({&quot;maxWidth&quot;: &quot;100%&quot;});\\n\\n        \\n            \\n                var html_c4f464467db56cc011192e23b2d67b63 = $(`&lt;div id=&quot;html_c4f464467db56cc011192e23b2d67b63&quot; style=&quot;width: 100.0%; height: 100.0%;&quot;&gt;EMIT_L2B_CH4PLM_001_20231217T201338_002751&lt;/div&gt;`)[0];\\n                popup_4b39bbd2757e12c79c38d8e41c996e8a.setContent(html_c4f464467db56cc011192e23b2d67b63);\\n            \\n        \\n\\n        marker_32d9d510498446494f0d5d0d7b8f3cff.bindPopup(popup_4b39bbd2757e12c79c38d8e41c996e8a)\\n        ;\\n\\n        \\n    \\n    \\n            var marker_e2bfb10dd1912741e84658849979f4b4 = L.marker(\\n                [36.25551148030404, 59.954644678485835],\\n                {}\\n            ).addTo(map_198ceb5622f94b831ffd85f349dd79e3);\\n        \\n    \\n            var icon_91eebdff13f3e734921bd5e5db7e8f5d = L.AwesomeMarkers.icon(\\n                {&quot;extraClasses&quot;: &quot;fa-rotate-0&quot;, &quot;icon&quot;: &quot;info-sign&quot;, &quot;iconColor&quot;: &quot;white&quot;, &quot;markerColor&quot;: &quot;#f8df25ff&quot;, &quot;prefix&quot;: &quot;glyphicon&quot;}\\n            );\\n            marker_e2bfb10dd1912741e84658849979f4b4.setIcon(icon_91eebdff13f3e734921bd5e5db7e8f5d);\\n        \\n    \\n        var popup_f5282c516cee2820d58191ff83f17715 = L.popup({&quot;maxWidth&quot;: &quot;100%&quot;});\\n\\n        \\n            \\n                var html_22c6e0ecdcbeb969570febccc5ecafa1 = $(`&lt;div id=&quot;html_22c6e0ecdcbeb969570febccc5ecafa1&quot; style=&quot;width: 100.0%; height: 100.0%;&quot;&gt;EMIT_L2B_CH4PLM_001_20230421T082329_000835&lt;/div&gt;`)[0];\\n                popup_f5282c516cee2820d58191ff83f17715.setContent(html_22c6e0ecdcbeb969570febccc5ecafa1);\\n            \\n        \\n\\n        marker_e2bfb10dd1912741e84658849979f4b4.bindPopup(popup_f5282c516cee2820d58191ff83f17715)\\n        ;\\n\\n        \\n    \\n    \\n            var marker_1c89131004fa3092605d5080ca2864b8 = L.marker(\\n                [36.34931770630838, 111.99595304261082],\\n                {}\\n            ).addTo(map_198ceb5622f94b831ffd85f349dd79e3);\\n        \\n    \\n            var icon_00822ec4954469e980a461e8ebd01bc9 = L.AwesomeMarkers.icon(\\n                {&quot;extraClasses&quot;: &quot;fa-rotate-0&quot;, &quot;icon&quot;: &quot;info-sign&quot;, &quot;iconColor&quot;: &quot;white&quot;, &quot;markerColor&quot;: &quot;#f8df25ff&quot;, &quot;prefix&quot;: &quot;glyphicon&quot;}\\n            );\\n            marker_1c89131004fa3092605d5080ca2864b8.setIcon(icon_00822ec4954469e980a461e8ebd01bc9);\\n        \\n    \\n        var popup_76a9baf431eb5f0d502bc2b6834647f4 = L.popup({&quot;maxWidth&quot;: &quot;100%&quot;});\\n\\n        \\n            \\n                var html_9d4bb7ac5f3b21d9ab8b5e1d991e5340 = $(`&lt;div id=&quot;html_9d4bb7ac5f3b21d9ab8b5e1d991e5340&quot; style=&quot;width: 100.0%; height: 100.0%;&quot;&gt;EMIT_L2B_CH4PLM_001_20240225T021349_002867&lt;/div&gt;`)[0];\\n                popup_76a9baf431eb5f0d502bc2b6834647f4.setContent(html_9d4bb7ac5f3b21d9ab8b5e1d991e5340);\\n            \\n        \\n\\n        marker_1c89131004fa3092605d5080ca2864b8.bindPopup(popup_76a9baf431eb5f0d502bc2b6834647f4)\\n        ;\\n\\n        \\n    \\n    \\n            var tile_layer_33245e918dbaeb9d4e8c7e1efd808fb9 = L.tileLayer(\\n                &quot;https://earth.gov/ghgcenter/api/raster/collections/micasa-carbonflux-daygrid-v1/items/micasa-carbonflux-daygrid-v1-20211023/tiles/WebMercatorQuad/{z}/{x}/{y}@1x?assets=rh\\\\u0026color_formula=gamma+r+1.05\\\\u0026colormap_name=spectral_r\\\\u0026rescale=-0.35656991600990295%2C7.2141876220703125&quot;,\\n                {&quot;attribution&quot;: &quot;GHG&quot;, &quot;detectRetina&quot;: false, &quot;maxZoom&quot;: 18, &quot;minZoom&quot;: 0, &quot;noWrap&quot;: false, &quot;opacity&quot;: 0.8, &quot;subdomains&quot;: &quot;abc&quot;, &quot;tms&quot;: false}\\n            );\\n        \\n    \\n            tile_layer_33245e918dbaeb9d4e8c7e1efd808fb9.addTo(map_198ceb5622f94b831ffd85f349dd79e3);\\n        \\n    \\n            map_566c39b6732816bdc9a21a459370594a.sync(map_198ceb5622f94b831ffd85f349dd79e3);\\n            map_198ceb5622f94b831ffd85f349dd79e3.sync(map_566c39b6732816bdc9a21a459370594a);\\n        \\n&lt;/script&gt;\\n&lt;/html&gt;\" style=\"position:absolute;width:100%;height:100%;left:0;top:0;border:none !important;\" allowfullscreen webkitallowfullscreen mozallowfullscreen></iframe></div></div>'"
      ]
     },
     "execution_count": 81,
     "metadata": {},
     "output_type": "execute_result"
    }
   ],
   "source": [
    "year_map(\"tokyo\", 2003)"
   ]
  },
  {
   "cell_type": "code",
   "execution_count": 89,
   "metadata": {},
   "outputs": [
    {
     "name": "stdout",
     "output_type": "stream",
     "text": [
      "Running on local URL:  http://127.0.0.1:7896\n",
      "\n",
      "To create a public link, set `share=True` in `launch()`.\n"
     ]
    },
    {
     "data": {
      "text/html": [
       "<div><iframe src=\"http://127.0.0.1:7896/\" width=\"100%\" height=\"500\" allow=\"autoplay; camera; microphone; clipboard-read; clipboard-write;\" frameborder=\"0\" allowfullscreen></iframe></div>"
      ],
      "text/plain": [
       "<IPython.core.display.HTML object>"
      ]
     },
     "metadata": {},
     "output_type": "display_data"
    },
    {
     "data": {
      "text/plain": []
     },
     "execution_count": 89,
     "metadata": {},
     "output_type": "execute_result"
    },
    {
     "name": "stderr",
     "output_type": "stream",
     "text": [
      "/var/folders/gc/pl4_8nd9097bt5tjqkgdgdcw0000gn/T/ipykernel_16139/2575265797.py:74: UserWarning: color argument of Icon should be one of: {'purple', 'black', 'beige', 'lightblue', 'darkblue', 'orange', 'gray', 'lightred', 'cadetblue', 'blue', 'pink', 'lightgray', 'darkpurple', 'darkred', 'lightgreen', 'white', 'darkgreen', 'red', 'green'}.\n",
      "  icon=folium.Icon(color=color),\n"
     ]
    }
   ],
   "source": [
    "import gradio as gr\n",
    "\n",
    "# 画像のパス\n",
    "image_path = \"./../images/nasa_space_apps.png\"\n",
    "\n",
    "# カスタムCSS\n",
    "custom_css = \"\"\"\n",
    "body {\n",
    "    font-family: Inter, Public Sans, sans-serif;\n",
    "    font-size: 20px !important;\n",
    "}\n",
    "\n",
    "# .header-container {\n",
    "#     display: flex;\n",
    "#     align-items: center;\n",
    "#     margin-bottom: 20px;  /* ヘッダーと説明文の間にスペースを追加 */\n",
    "# }\n",
    "\n",
    ".nasa_logo img{\n",
    "    margin-left: 50px;\n",
    "    background-color: black;\n",
    "}\n",
    "\n",
    ".logo img{\n",
    "    margin-right: 50px;\n",
    "}\n",
    "\n",
    ".header-container h1 {\n",
    "    font-size: 40px !important;  /* タイトルのフォントサイズを指定 */\n",
    "    text-align: left;           /* タイトルを中央揃え */\n",
    "    margin-top: 50px;          /* タイトルの上にスペースを追加 */\n",
    "}\n",
    "\n",
    ".markdown h1 {\n",
    "    font-size: 400px !important;\n",
    "    margin-top: 10px;             /* デフォルトのマージンを削除 */\n",
    "    margin-top: 100px;          /* デフォルトのマージンを削除 */\n",
    "}\n",
    "\n",
    ".markdown p {\n",
    "    font-size: 50px !important;  /* 段落のフォントサイズを指定 */\n",
    "}\n",
    "\"\"\"\n",
    "\n",
    "# Gradioインターフェースの作成\n",
    "with gr.Blocks(theme=gr.themes.Default(primary_hue=\"cyan\", secondary_hue=\"yellow\"), css=custom_css) as demo:\n",
    "    \n",
    "    # ヘッダーに画像とタイトルを挿入\n",
    "    with gr.Row():\n",
    "        # gr.Imageコンポーネントを使用して画像を表示\n",
    "        gr.Image('./../images/nasa_space_apps.png', elem_classes=\"nasa_logo\", width=\"150px\", height=\"150px\", container=False, show_download_button=False, show_fullscreen_button=False)\n",
    "        gr.Image('./../images/logo.png', elem_classes=\"logo\", width=\"150px\", height=\"150px\", container=False, show_download_button=False, show_fullscreen_button=False)\n",
    "        # gr.Markdown(\"<h1>CO2 Fossil Fuel Emissions Map</h1>\", elem_classes=\"header-container\")\n",
    "    \n",
    "    # ヘッダーの下に説明文\n",
    "    gr.Markdown(\"\"\"\n",
    "    <h2><p>This map shows the human-caused and natural greenhouse gas emissions data over the years. Use the scroll bar to set the year and enter the location you wish to look up in the box below.</p></h2>\n",
    "    \"\"\")\n",
    "    \n",
    "    # テキストボックスで都市名を検索\n",
    "    city_input = gr.Textbox(label=\"Enter a city to search for GHG emission data:\", placeholder=\"Type city name...\", lines=1)\n",
    "    \n",
    "    # マップ表示エリア\n",
    "    output = gr.HTML()\n",
    "    \n",
    "    # スライダー（検索バー）を配置\n",
    "    year_slider = gr.Slider(2001, 2022, step=1, label=\"Select Year\", interactive=True)\n",
    "    \n",
    "    city_input.submit(year_map, inputs=[city_input, year_slider], outputs=output)\n",
    "    # スライダーを動かすとマップを更新\n",
    "    year_slider.change(year_map, inputs=[city_input, year_slider], outputs=output)\n",
    "\n",
    "# アプリケーションを起動\n",
    "demo.launch()"
   ]
  },
  {
   "cell_type": "code",
   "execution_count": null,
   "metadata": {},
   "outputs": [],
   "source": []
  }
 ],
 "metadata": {
  "kernelspec": {
   "display_name": "Python 3",
   "language": "python",
   "name": "python3"
  },
  "language_info": {
   "codemirror_mode": {
    "name": "ipython",
    "version": 3
   },
   "file_extension": ".py",
   "mimetype": "text/x-python",
   "name": "python",
   "nbconvert_exporter": "python",
   "pygments_lexer": "ipython3",
   "version": "3.9.6"
  }
 },
 "nbformat": 4,
 "nbformat_minor": 2
}
